{
  "nbformat": 4,
  "nbformat_minor": 0,
  "metadata": {
    "colab": {
      "provenance": []
    },
    "kernelspec": {
      "name": "python3",
      "display_name": "Python 3"
    },
    "language_info": {
      "name": "python"
    }
  },
  "cells": [
    {
      "cell_type": "markdown",
      "source": [
        "Code to convert GeoTiff File to parquet format"
      ],
      "metadata": {
        "id": "350WjvoanMdl"
      }
    },
    {
      "cell_type": "code",
      "execution_count": 2,
      "metadata": {
        "id": "2u1MrMBNjW8s"
      },
      "outputs": [],
      "source": [
        "#importing libraries\n",
        "\n",
        "from osgeo import gdal\n",
        "import fastparquet as fp\n",
        "import numpy as np\n",
        "import pandas as pd "
      ]
    },
    {
      "cell_type": "code",
      "source": [
        "#opening the GeoTiff file\n",
        "\n",
        "rasterFile=gdal.Open(\"/content/drive/MyDrive/image_2022ekm.tif\")\n",
        "\n",
        "bands=[]\n",
        "for band in range(1,7):\n",
        "  bandData=rasterFile.GetRasterBand(band).ReadAsArray()\n",
        "  bands.append(bandData)\n",
        "\n",
        "landsatData=np.stack(bands,axis=-1)\n",
        "\n",
        "rasterFile=None #removing ds variable and releasing memory\n",
        "\n",
        "landsatData0=np.nan_to_num(landsatData,nan=-999.99) #assigning -999.99 for nan values\n",
        "landsatData=None\n",
        "\n",
        "#converting the data into pandas dataframe\n",
        "lsFlattenAnt= landsatData0.reshape(-1,6)\n",
        "rasterDf=pd.DataFrame(data=lsFlattenAnt,columns=['blue','green','red','nir','swir1','swir2'])"
      ],
      "metadata": {
        "id": "QmV8us94j2eQ"
      },
      "execution_count": 5,
      "outputs": []
    },
    {
      "cell_type": "code",
      "source": [
        "rasterDf.head()\n",
        "print(len(rasterDf.index))"
      ],
      "metadata": {
        "colab": {
          "base_uri": "https://localhost:8080/"
        },
        "id": "6wcmjxj4lRzM",
        "outputId": "bd7d8fcc-f7bf-408e-c040-b45afb4accec"
      },
      "execution_count": 10,
      "outputs": [
        {
          "output_type": "stream",
          "name": "stdout",
          "text": [
            "6541010\n"
          ]
        }
      ]
    },
    {
      "cell_type": "code",
      "source": [
        "#writing pandas dataframe into parquet\n",
        "\n",
        "fp.write('/content/sample_data/raster.parquet',rasterDf)"
      ],
      "metadata": {
        "id": "1s-IST2DlfVF"
      },
      "execution_count": 7,
      "outputs": []
    }
  ]
}