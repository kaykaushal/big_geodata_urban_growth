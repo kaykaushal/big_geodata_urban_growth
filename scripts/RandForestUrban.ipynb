{
  "nbformat": 4,
  "nbformat_minor": 0,
  "metadata": {
    "colab": {
      "provenance": []
    },
    "kernelspec": {
      "name": "python3",
      "display_name": "Python 3"
    },
    "language_info": {
      "name": "python"
    }
  },
  "cells": [
    {
      "cell_type": "markdown",
      "source": [
        "Random forest algorithm for classifying the landsat image"
      ],
      "metadata": {
        "id": "GHpD7YjUDUMC"
      }
    },
    {
      "cell_type": "code",
      "execution_count": 2,
      "metadata": {
        "id": "NLMOkVTYF9uH"
      },
      "outputs": [],
      "source": [
        "#importing libraries\n",
        "\n",
        "from sklearn.ensemble import RandomForestClassifier\n",
        "import pandas as pd\n",
        "import numpy as np\n",
        "from osgeo import gdal, osr, ogr\n",
        "np.random.seed(0) #setting random seed\n",
        "import matplotlib.pyplot as plt\n",
        "import pickle "
      ]
    },
    {
      "cell_type": "markdown",
      "source": [
        "**Processes starts from here**\n",
        "\n",
        "\n",
        "\n"
      ],
      "metadata": {
        "id": "7GYCTPlOfPwR"
      }
    },
    {
      "cell_type": "code",
      "source": [
        "#loading and reading pune data\n",
        "\n",
        "pune22= gdal.Open('/content/drive/MyDrive/image_2022.tif',0)\n",
        "bands=[]\n",
        "for band in range(1,7):\n",
        "  band_data=pune22.GetRasterBand(band).ReadAsArray()\n",
        "  bands.append(band_data)\n",
        "\n",
        "landsatData=np.stack(bands,axis=-1)\n",
        "\n",
        "pune22=None #removing ds variable and releasing memory"
      ],
      "metadata": {
        "id": "DjegNZwpfYIy"
      },
      "execution_count": 3,
      "outputs": []
    },
    {
      "cell_type": "code",
      "source": [
        "landsatData0=np.nan_to_num(landsatData,nan=0) #assigning 0 for nan values\n",
        "landsatData=None"
      ],
      "metadata": {
        "id": "1FdU2s_W0hpm"
      },
      "execution_count": 4,
      "outputs": []
    },
    {
      "cell_type": "code",
      "source": [
        "#converting the nparray of landsat data to pandas dataframe by flattening\n",
        "\n",
        "lsFlatten= landsatData0.reshape(-1,6)\n",
        "flatDf=pd.DataFrame(data=lsFlatten,columns=['blue','green','red','nir','swir1','swir2'])\n",
        "print(len(flatDf.index))\n",
        "flatDf.head()"
      ],
      "metadata": {
        "colab": {
          "base_uri": "https://localhost:8080/",
          "height": 223
        },
        "id": "HMRec7kyzhvV",
        "outputId": "9561f8f3-983a-42b3-977c-b8cdb8cd5e51"
      },
      "execution_count": 5,
      "outputs": [
        {
          "output_type": "stream",
          "name": "stdout",
          "text": [
            "38018304\n"
          ]
        },
        {
          "output_type": "execute_result",
          "data": {
            "text/plain": [
              "   blue  green  red  nir  swir1  swir2\n",
              "0   0.0    0.0  0.0  0.0    0.0    0.0\n",
              "1   0.0    0.0  0.0  0.0    0.0    0.0\n",
              "2   0.0    0.0  0.0  0.0    0.0    0.0\n",
              "3   0.0    0.0  0.0  0.0    0.0    0.0\n",
              "4   0.0    0.0  0.0  0.0    0.0    0.0"
            ],
            "text/html": [
              "\n",
              "  <div id=\"df-a52ebde3-b9b6-439d-a3fa-0df757c34efe\">\n",
              "    <div class=\"colab-df-container\">\n",
              "      <div>\n",
              "<style scoped>\n",
              "    .dataframe tbody tr th:only-of-type {\n",
              "        vertical-align: middle;\n",
              "    }\n",
              "\n",
              "    .dataframe tbody tr th {\n",
              "        vertical-align: top;\n",
              "    }\n",
              "\n",
              "    .dataframe thead th {\n",
              "        text-align: right;\n",
              "    }\n",
              "</style>\n",
              "<table border=\"1\" class=\"dataframe\">\n",
              "  <thead>\n",
              "    <tr style=\"text-align: right;\">\n",
              "      <th></th>\n",
              "      <th>blue</th>\n",
              "      <th>green</th>\n",
              "      <th>red</th>\n",
              "      <th>nir</th>\n",
              "      <th>swir1</th>\n",
              "      <th>swir2</th>\n",
              "    </tr>\n",
              "  </thead>\n",
              "  <tbody>\n",
              "    <tr>\n",
              "      <th>0</th>\n",
              "      <td>0.0</td>\n",
              "      <td>0.0</td>\n",
              "      <td>0.0</td>\n",
              "      <td>0.0</td>\n",
              "      <td>0.0</td>\n",
              "      <td>0.0</td>\n",
              "    </tr>\n",
              "    <tr>\n",
              "      <th>1</th>\n",
              "      <td>0.0</td>\n",
              "      <td>0.0</td>\n",
              "      <td>0.0</td>\n",
              "      <td>0.0</td>\n",
              "      <td>0.0</td>\n",
              "      <td>0.0</td>\n",
              "    </tr>\n",
              "    <tr>\n",
              "      <th>2</th>\n",
              "      <td>0.0</td>\n",
              "      <td>0.0</td>\n",
              "      <td>0.0</td>\n",
              "      <td>0.0</td>\n",
              "      <td>0.0</td>\n",
              "      <td>0.0</td>\n",
              "    </tr>\n",
              "    <tr>\n",
              "      <th>3</th>\n",
              "      <td>0.0</td>\n",
              "      <td>0.0</td>\n",
              "      <td>0.0</td>\n",
              "      <td>0.0</td>\n",
              "      <td>0.0</td>\n",
              "      <td>0.0</td>\n",
              "    </tr>\n",
              "    <tr>\n",
              "      <th>4</th>\n",
              "      <td>0.0</td>\n",
              "      <td>0.0</td>\n",
              "      <td>0.0</td>\n",
              "      <td>0.0</td>\n",
              "      <td>0.0</td>\n",
              "      <td>0.0</td>\n",
              "    </tr>\n",
              "  </tbody>\n",
              "</table>\n",
              "</div>\n",
              "      <button class=\"colab-df-convert\" onclick=\"convertToInteractive('df-a52ebde3-b9b6-439d-a3fa-0df757c34efe')\"\n",
              "              title=\"Convert this dataframe to an interactive table.\"\n",
              "              style=\"display:none;\">\n",
              "        \n",
              "  <svg xmlns=\"http://www.w3.org/2000/svg\" height=\"24px\"viewBox=\"0 0 24 24\"\n",
              "       width=\"24px\">\n",
              "    <path d=\"M0 0h24v24H0V0z\" fill=\"none\"/>\n",
              "    <path d=\"M18.56 5.44l.94 2.06.94-2.06 2.06-.94-2.06-.94-.94-2.06-.94 2.06-2.06.94zm-11 1L8.5 8.5l.94-2.06 2.06-.94-2.06-.94L8.5 2.5l-.94 2.06-2.06.94zm10 10l.94 2.06.94-2.06 2.06-.94-2.06-.94-.94-2.06-.94 2.06-2.06.94z\"/><path d=\"M17.41 7.96l-1.37-1.37c-.4-.4-.92-.59-1.43-.59-.52 0-1.04.2-1.43.59L10.3 9.45l-7.72 7.72c-.78.78-.78 2.05 0 2.83L4 21.41c.39.39.9.59 1.41.59.51 0 1.02-.2 1.41-.59l7.78-7.78 2.81-2.81c.8-.78.8-2.07 0-2.86zM5.41 20L4 18.59l7.72-7.72 1.47 1.35L5.41 20z\"/>\n",
              "  </svg>\n",
              "      </button>\n",
              "      \n",
              "  <style>\n",
              "    .colab-df-container {\n",
              "      display:flex;\n",
              "      flex-wrap:wrap;\n",
              "      gap: 12px;\n",
              "    }\n",
              "\n",
              "    .colab-df-convert {\n",
              "      background-color: #E8F0FE;\n",
              "      border: none;\n",
              "      border-radius: 50%;\n",
              "      cursor: pointer;\n",
              "      display: none;\n",
              "      fill: #1967D2;\n",
              "      height: 32px;\n",
              "      padding: 0 0 0 0;\n",
              "      width: 32px;\n",
              "    }\n",
              "\n",
              "    .colab-df-convert:hover {\n",
              "      background-color: #E2EBFA;\n",
              "      box-shadow: 0px 1px 2px rgba(60, 64, 67, 0.3), 0px 1px 3px 1px rgba(60, 64, 67, 0.15);\n",
              "      fill: #174EA6;\n",
              "    }\n",
              "\n",
              "    [theme=dark] .colab-df-convert {\n",
              "      background-color: #3B4455;\n",
              "      fill: #D2E3FC;\n",
              "    }\n",
              "\n",
              "    [theme=dark] .colab-df-convert:hover {\n",
              "      background-color: #434B5C;\n",
              "      box-shadow: 0px 1px 3px 1px rgba(0, 0, 0, 0.15);\n",
              "      filter: drop-shadow(0px 1px 2px rgba(0, 0, 0, 0.3));\n",
              "      fill: #FFFFFF;\n",
              "    }\n",
              "  </style>\n",
              "\n",
              "      <script>\n",
              "        const buttonEl =\n",
              "          document.querySelector('#df-a52ebde3-b9b6-439d-a3fa-0df757c34efe button.colab-df-convert');\n",
              "        buttonEl.style.display =\n",
              "          google.colab.kernel.accessAllowed ? 'block' : 'none';\n",
              "\n",
              "        async function convertToInteractive(key) {\n",
              "          const element = document.querySelector('#df-a52ebde3-b9b6-439d-a3fa-0df757c34efe');\n",
              "          const dataTable =\n",
              "            await google.colab.kernel.invokeFunction('convertToInteractive',\n",
              "                                                     [key], {});\n",
              "          if (!dataTable) return;\n",
              "\n",
              "          const docLinkHtml = 'Like what you see? Visit the ' +\n",
              "            '<a target=\"_blank\" href=https://colab.research.google.com/notebooks/data_table.ipynb>data table notebook</a>'\n",
              "            + ' to learn more about interactive tables.';\n",
              "          element.innerHTML = '';\n",
              "          dataTable['output_type'] = 'display_data';\n",
              "          await google.colab.output.renderOutput(dataTable, element);\n",
              "          const docLink = document.createElement('div');\n",
              "          docLink.innerHTML = docLinkHtml;\n",
              "          element.appendChild(docLink);\n",
              "        }\n",
              "      </script>\n",
              "    </div>\n",
              "  </div>\n",
              "  "
            ]
          },
          "metadata": {},
          "execution_count": 5
        }
      ]
    },
    {
      "cell_type": "code",
      "source": [
        "#now i have to make a pandas data frame with columns of 6 bands and labels\n",
        "#then i have to split it into training and testing\n",
        "\n",
        "#each column contains a np array of pixel value/reflectance value"
      ],
      "metadata": {
        "id": "Gj8yu5LWgznr"
      },
      "execution_count": null,
      "outputs": []
    },
    {
      "cell_type": "code",
      "source": [
        "#converting all training data into np array\n",
        "\n",
        "#first, loading all training samples\n",
        "#training data is given as tif files with 10 samples for each class\n",
        "\n",
        "import glob\n",
        "dataList=[]\n",
        "folderPath='/content/drive/MyDrive/trainingData1'\n",
        "fileList=sorted(glob.glob(folderPath+'/*.tif'))\n",
        "for filePath in fileList:\n",
        "  ds=gdal.Open(filePath)\n",
        "  dataList.append(ds)\n",
        "  ds=None\n",
        "\n"
      ],
      "metadata": {
        "id": "W4HMwnS_qtHN"
      },
      "execution_count": 6,
      "outputs": []
    },
    {
      "cell_type": "code",
      "source": [
        "#converting each samples into np array\n",
        "npDataList=[]\n",
        "for i in dataList:\n",
        "  tmpLst=[]\n",
        "  for j in range(1,7):\n",
        "    bnd=i.GetRasterBand(j).ReadAsArray()\n",
        "    tmpLst.append(bnd)\n",
        "\n",
        "  npDataList.append(np.stack(tmpLst,axis=-1))\n",
        "\n"
      ],
      "metadata": {
        "id": "gd1xT5Z3r1Pj"
      },
      "execution_count": 7,
      "outputs": []
    },
    {
      "cell_type": "code",
      "source": [
        "print(len(npDataList)) #checking total no of samples"
      ],
      "metadata": {
        "colab": {
          "base_uri": "https://localhost:8080/"
        },
        "id": "vYmYvNFYeVTq",
        "outputId": "a858edbe-1419-497f-bdcc-e239ef64300a"
      },
      "execution_count": 8,
      "outputs": [
        {
          "output_type": "stream",
          "name": "stdout",
          "text": [
            "40\n"
          ]
        }
      ]
    },
    {
      "cell_type": "code",
      "source": [
        "#converting training samples into dict with key is class name and value is the samples pixel values\n",
        "\n",
        "classes=['blt','brn','veg','wtr','noData']\n",
        "dataDict={}\n",
        "n=0\n",
        "cnt=0\n",
        "for i in npDataList:\n",
        "  shpAry=i.shape\n",
        "  val=[]\n",
        "  for j in range(0,shpAry[0]):\n",
        "    for k in range(0,shpAry[1]):\n",
        "      val.append(list(i[j,k,:]))\n",
        "\n",
        "\n",
        "  dataDict.update({classes[n]:val})\n",
        "\n",
        "  if (cnt+1)%10==0:\n",
        "    n+=1\n",
        "\n",
        "  cnt+=1\n",
        "\n",
        "  \n",
        "  \n"
      ],
      "metadata": {
        "id": "yaHH2wC6fBfQ"
      },
      "execution_count": 9,
      "outputs": []
    },
    {
      "cell_type": "code",
      "source": [
        "#assigning dictionary of samples into pandas dataframe for training\n",
        "\n",
        "dfTrain=pd.DataFrame(columns=['label','blue','green','red','nir','swir1','swir2'])\n",
        "pv=0\n",
        "for p in range(0,len(dataDict)):\n",
        "  clsName=list(dataDict.keys())[p]\n",
        "  for q in range(0,len(dataDict[clsName])):\n",
        "    itm=dataDict[clsName][q]\n",
        "    data={'label':clsName,\n",
        "      'blue':itm[0], \n",
        "      'green':itm[1], \n",
        "      'red':itm[2], \n",
        "      'nir':itm[3], \n",
        "      'swir1':itm[4], \n",
        "      'swir2':itm[5]\n",
        "      }\n",
        "    pv+=1\n",
        "    dfTrain.loc[pv]=data\n"
      ],
      "metadata": {
        "id": "6Slfo1z-jgj8"
      },
      "execution_count": 10,
      "outputs": []
    },
    {
      "cell_type": "code",
      "source": [
        "dfTrain.head() #printing and checking"
      ],
      "metadata": {
        "colab": {
          "base_uri": "https://localhost:8080/",
          "height": 206
        },
        "id": "rOkX6k08nE_c",
        "outputId": "42b65f48-f31d-493f-a9d8-35c27675539d"
      },
      "execution_count": 11,
      "outputs": [
        {
          "output_type": "execute_result",
          "data": {
            "text/plain": [
              "  label    blue   green     red      nir    swir1    swir2\n",
              "1   blt  8418.5  9151.5  8985.5  12472.0  11209.0   9824.0\n",
              "2   blt  8487.0  9210.0  9020.0  11381.0  10877.5   9851.0\n",
              "3   blt  8487.0  9210.0  9020.0  11381.0  10877.5   9851.0\n",
              "4   blt  8783.0  9593.0  9274.5  13079.5  11728.0  10255.5\n",
              "5   blt  8996.0  9827.5  9771.0  12770.0  12070.5  10651.5"
            ],
            "text/html": [
              "\n",
              "  <div id=\"df-8d55dc7b-948f-4fc0-b2d6-c4e7ce25165b\">\n",
              "    <div class=\"colab-df-container\">\n",
              "      <div>\n",
              "<style scoped>\n",
              "    .dataframe tbody tr th:only-of-type {\n",
              "        vertical-align: middle;\n",
              "    }\n",
              "\n",
              "    .dataframe tbody tr th {\n",
              "        vertical-align: top;\n",
              "    }\n",
              "\n",
              "    .dataframe thead th {\n",
              "        text-align: right;\n",
              "    }\n",
              "</style>\n",
              "<table border=\"1\" class=\"dataframe\">\n",
              "  <thead>\n",
              "    <tr style=\"text-align: right;\">\n",
              "      <th></th>\n",
              "      <th>label</th>\n",
              "      <th>blue</th>\n",
              "      <th>green</th>\n",
              "      <th>red</th>\n",
              "      <th>nir</th>\n",
              "      <th>swir1</th>\n",
              "      <th>swir2</th>\n",
              "    </tr>\n",
              "  </thead>\n",
              "  <tbody>\n",
              "    <tr>\n",
              "      <th>1</th>\n",
              "      <td>blt</td>\n",
              "      <td>8418.5</td>\n",
              "      <td>9151.5</td>\n",
              "      <td>8985.5</td>\n",
              "      <td>12472.0</td>\n",
              "      <td>11209.0</td>\n",
              "      <td>9824.0</td>\n",
              "    </tr>\n",
              "    <tr>\n",
              "      <th>2</th>\n",
              "      <td>blt</td>\n",
              "      <td>8487.0</td>\n",
              "      <td>9210.0</td>\n",
              "      <td>9020.0</td>\n",
              "      <td>11381.0</td>\n",
              "      <td>10877.5</td>\n",
              "      <td>9851.0</td>\n",
              "    </tr>\n",
              "    <tr>\n",
              "      <th>3</th>\n",
              "      <td>blt</td>\n",
              "      <td>8487.0</td>\n",
              "      <td>9210.0</td>\n",
              "      <td>9020.0</td>\n",
              "      <td>11381.0</td>\n",
              "      <td>10877.5</td>\n",
              "      <td>9851.0</td>\n",
              "    </tr>\n",
              "    <tr>\n",
              "      <th>4</th>\n",
              "      <td>blt</td>\n",
              "      <td>8783.0</td>\n",
              "      <td>9593.0</td>\n",
              "      <td>9274.5</td>\n",
              "      <td>13079.5</td>\n",
              "      <td>11728.0</td>\n",
              "      <td>10255.5</td>\n",
              "    </tr>\n",
              "    <tr>\n",
              "      <th>5</th>\n",
              "      <td>blt</td>\n",
              "      <td>8996.0</td>\n",
              "      <td>9827.5</td>\n",
              "      <td>9771.0</td>\n",
              "      <td>12770.0</td>\n",
              "      <td>12070.5</td>\n",
              "      <td>10651.5</td>\n",
              "    </tr>\n",
              "  </tbody>\n",
              "</table>\n",
              "</div>\n",
              "      <button class=\"colab-df-convert\" onclick=\"convertToInteractive('df-8d55dc7b-948f-4fc0-b2d6-c4e7ce25165b')\"\n",
              "              title=\"Convert this dataframe to an interactive table.\"\n",
              "              style=\"display:none;\">\n",
              "        \n",
              "  <svg xmlns=\"http://www.w3.org/2000/svg\" height=\"24px\"viewBox=\"0 0 24 24\"\n",
              "       width=\"24px\">\n",
              "    <path d=\"M0 0h24v24H0V0z\" fill=\"none\"/>\n",
              "    <path d=\"M18.56 5.44l.94 2.06.94-2.06 2.06-.94-2.06-.94-.94-2.06-.94 2.06-2.06.94zm-11 1L8.5 8.5l.94-2.06 2.06-.94-2.06-.94L8.5 2.5l-.94 2.06-2.06.94zm10 10l.94 2.06.94-2.06 2.06-.94-2.06-.94-.94-2.06-.94 2.06-2.06.94z\"/><path d=\"M17.41 7.96l-1.37-1.37c-.4-.4-.92-.59-1.43-.59-.52 0-1.04.2-1.43.59L10.3 9.45l-7.72 7.72c-.78.78-.78 2.05 0 2.83L4 21.41c.39.39.9.59 1.41.59.51 0 1.02-.2 1.41-.59l7.78-7.78 2.81-2.81c.8-.78.8-2.07 0-2.86zM5.41 20L4 18.59l7.72-7.72 1.47 1.35L5.41 20z\"/>\n",
              "  </svg>\n",
              "      </button>\n",
              "      \n",
              "  <style>\n",
              "    .colab-df-container {\n",
              "      display:flex;\n",
              "      flex-wrap:wrap;\n",
              "      gap: 12px;\n",
              "    }\n",
              "\n",
              "    .colab-df-convert {\n",
              "      background-color: #E8F0FE;\n",
              "      border: none;\n",
              "      border-radius: 50%;\n",
              "      cursor: pointer;\n",
              "      display: none;\n",
              "      fill: #1967D2;\n",
              "      height: 32px;\n",
              "      padding: 0 0 0 0;\n",
              "      width: 32px;\n",
              "    }\n",
              "\n",
              "    .colab-df-convert:hover {\n",
              "      background-color: #E2EBFA;\n",
              "      box-shadow: 0px 1px 2px rgba(60, 64, 67, 0.3), 0px 1px 3px 1px rgba(60, 64, 67, 0.15);\n",
              "      fill: #174EA6;\n",
              "    }\n",
              "\n",
              "    [theme=dark] .colab-df-convert {\n",
              "      background-color: #3B4455;\n",
              "      fill: #D2E3FC;\n",
              "    }\n",
              "\n",
              "    [theme=dark] .colab-df-convert:hover {\n",
              "      background-color: #434B5C;\n",
              "      box-shadow: 0px 1px 3px 1px rgba(0, 0, 0, 0.15);\n",
              "      filter: drop-shadow(0px 1px 2px rgba(0, 0, 0, 0.3));\n",
              "      fill: #FFFFFF;\n",
              "    }\n",
              "  </style>\n",
              "\n",
              "      <script>\n",
              "        const buttonEl =\n",
              "          document.querySelector('#df-8d55dc7b-948f-4fc0-b2d6-c4e7ce25165b button.colab-df-convert');\n",
              "        buttonEl.style.display =\n",
              "          google.colab.kernel.accessAllowed ? 'block' : 'none';\n",
              "\n",
              "        async function convertToInteractive(key) {\n",
              "          const element = document.querySelector('#df-8d55dc7b-948f-4fc0-b2d6-c4e7ce25165b');\n",
              "          const dataTable =\n",
              "            await google.colab.kernel.invokeFunction('convertToInteractive',\n",
              "                                                     [key], {});\n",
              "          if (!dataTable) return;\n",
              "\n",
              "          const docLinkHtml = 'Like what you see? Visit the ' +\n",
              "            '<a target=\"_blank\" href=https://colab.research.google.com/notebooks/data_table.ipynb>data table notebook</a>'\n",
              "            + ' to learn more about interactive tables.';\n",
              "          element.innerHTML = '';\n",
              "          dataTable['output_type'] = 'display_data';\n",
              "          await google.colab.output.renderOutput(dataTable, element);\n",
              "          const docLink = document.createElement('div');\n",
              "          docLink.innerHTML = docLinkHtml;\n",
              "          element.appendChild(docLink);\n",
              "        }\n",
              "      </script>\n",
              "    </div>\n",
              "  </div>\n",
              "  "
            ]
          },
          "metadata": {},
          "execution_count": 11
        }
      ]
    },
    {
      "cell_type": "code",
      "source": [
        "#adding data into training dataframe for 0 values for identifying it as noData class\n",
        "\n",
        "for s in range(1,51):\n",
        "  r=len(dfTrain.index)+s\n",
        "  data0={'label':classes[4],\n",
        "      'blue':0.0, \n",
        "      'green':0.0, \n",
        "      'red':0.0, \n",
        "      'nir':0.0, \n",
        "      'swir1':0.0, \n",
        "      'swir2':0.0\n",
        "      }\n",
        "  dfTrain.loc[r]=data0"
      ],
      "metadata": {
        "id": "e3fzEwly3Rz0"
      },
      "execution_count": 12,
      "outputs": []
    },
    {
      "cell_type": "code",
      "source": [
        "dfTrain['is_train']=np.random.uniform(0,1,len(dfTrain))<=.75  #dividing into train and test samples\n",
        "dfTrain.head()"
      ],
      "metadata": {
        "colab": {
          "base_uri": "https://localhost:8080/",
          "height": 206
        },
        "id": "t1NUWaNWx1E-",
        "outputId": "ce5e6646-4d55-41ed-8cdb-04bbebd91699"
      },
      "execution_count": 13,
      "outputs": [
        {
          "output_type": "execute_result",
          "data": {
            "text/plain": [
              "  label    blue   green     red      nir    swir1    swir2  is_train\n",
              "1   blt  8418.5  9151.5  8985.5  12472.0  11209.0   9824.0      True\n",
              "2   blt  8487.0  9210.0  9020.0  11381.0  10877.5   9851.0      True\n",
              "3   blt  8487.0  9210.0  9020.0  11381.0  10877.5   9851.0      True\n",
              "4   blt  8783.0  9593.0  9274.5  13079.5  11728.0  10255.5      True\n",
              "5   blt  8996.0  9827.5  9771.0  12770.0  12070.5  10651.5      True"
            ],
            "text/html": [
              "\n",
              "  <div id=\"df-bf4fe731-7c91-4ad3-a14c-e38a43168e66\">\n",
              "    <div class=\"colab-df-container\">\n",
              "      <div>\n",
              "<style scoped>\n",
              "    .dataframe tbody tr th:only-of-type {\n",
              "        vertical-align: middle;\n",
              "    }\n",
              "\n",
              "    .dataframe tbody tr th {\n",
              "        vertical-align: top;\n",
              "    }\n",
              "\n",
              "    .dataframe thead th {\n",
              "        text-align: right;\n",
              "    }\n",
              "</style>\n",
              "<table border=\"1\" class=\"dataframe\">\n",
              "  <thead>\n",
              "    <tr style=\"text-align: right;\">\n",
              "      <th></th>\n",
              "      <th>label</th>\n",
              "      <th>blue</th>\n",
              "      <th>green</th>\n",
              "      <th>red</th>\n",
              "      <th>nir</th>\n",
              "      <th>swir1</th>\n",
              "      <th>swir2</th>\n",
              "      <th>is_train</th>\n",
              "    </tr>\n",
              "  </thead>\n",
              "  <tbody>\n",
              "    <tr>\n",
              "      <th>1</th>\n",
              "      <td>blt</td>\n",
              "      <td>8418.5</td>\n",
              "      <td>9151.5</td>\n",
              "      <td>8985.5</td>\n",
              "      <td>12472.0</td>\n",
              "      <td>11209.0</td>\n",
              "      <td>9824.0</td>\n",
              "      <td>True</td>\n",
              "    </tr>\n",
              "    <tr>\n",
              "      <th>2</th>\n",
              "      <td>blt</td>\n",
              "      <td>8487.0</td>\n",
              "      <td>9210.0</td>\n",
              "      <td>9020.0</td>\n",
              "      <td>11381.0</td>\n",
              "      <td>10877.5</td>\n",
              "      <td>9851.0</td>\n",
              "      <td>True</td>\n",
              "    </tr>\n",
              "    <tr>\n",
              "      <th>3</th>\n",
              "      <td>blt</td>\n",
              "      <td>8487.0</td>\n",
              "      <td>9210.0</td>\n",
              "      <td>9020.0</td>\n",
              "      <td>11381.0</td>\n",
              "      <td>10877.5</td>\n",
              "      <td>9851.0</td>\n",
              "      <td>True</td>\n",
              "    </tr>\n",
              "    <tr>\n",
              "      <th>4</th>\n",
              "      <td>blt</td>\n",
              "      <td>8783.0</td>\n",
              "      <td>9593.0</td>\n",
              "      <td>9274.5</td>\n",
              "      <td>13079.5</td>\n",
              "      <td>11728.0</td>\n",
              "      <td>10255.5</td>\n",
              "      <td>True</td>\n",
              "    </tr>\n",
              "    <tr>\n",
              "      <th>5</th>\n",
              "      <td>blt</td>\n",
              "      <td>8996.0</td>\n",
              "      <td>9827.5</td>\n",
              "      <td>9771.0</td>\n",
              "      <td>12770.0</td>\n",
              "      <td>12070.5</td>\n",
              "      <td>10651.5</td>\n",
              "      <td>True</td>\n",
              "    </tr>\n",
              "  </tbody>\n",
              "</table>\n",
              "</div>\n",
              "      <button class=\"colab-df-convert\" onclick=\"convertToInteractive('df-bf4fe731-7c91-4ad3-a14c-e38a43168e66')\"\n",
              "              title=\"Convert this dataframe to an interactive table.\"\n",
              "              style=\"display:none;\">\n",
              "        \n",
              "  <svg xmlns=\"http://www.w3.org/2000/svg\" height=\"24px\"viewBox=\"0 0 24 24\"\n",
              "       width=\"24px\">\n",
              "    <path d=\"M0 0h24v24H0V0z\" fill=\"none\"/>\n",
              "    <path d=\"M18.56 5.44l.94 2.06.94-2.06 2.06-.94-2.06-.94-.94-2.06-.94 2.06-2.06.94zm-11 1L8.5 8.5l.94-2.06 2.06-.94-2.06-.94L8.5 2.5l-.94 2.06-2.06.94zm10 10l.94 2.06.94-2.06 2.06-.94-2.06-.94-.94-2.06-.94 2.06-2.06.94z\"/><path d=\"M17.41 7.96l-1.37-1.37c-.4-.4-.92-.59-1.43-.59-.52 0-1.04.2-1.43.59L10.3 9.45l-7.72 7.72c-.78.78-.78 2.05 0 2.83L4 21.41c.39.39.9.59 1.41.59.51 0 1.02-.2 1.41-.59l7.78-7.78 2.81-2.81c.8-.78.8-2.07 0-2.86zM5.41 20L4 18.59l7.72-7.72 1.47 1.35L5.41 20z\"/>\n",
              "  </svg>\n",
              "      </button>\n",
              "      \n",
              "  <style>\n",
              "    .colab-df-container {\n",
              "      display:flex;\n",
              "      flex-wrap:wrap;\n",
              "      gap: 12px;\n",
              "    }\n",
              "\n",
              "    .colab-df-convert {\n",
              "      background-color: #E8F0FE;\n",
              "      border: none;\n",
              "      border-radius: 50%;\n",
              "      cursor: pointer;\n",
              "      display: none;\n",
              "      fill: #1967D2;\n",
              "      height: 32px;\n",
              "      padding: 0 0 0 0;\n",
              "      width: 32px;\n",
              "    }\n",
              "\n",
              "    .colab-df-convert:hover {\n",
              "      background-color: #E2EBFA;\n",
              "      box-shadow: 0px 1px 2px rgba(60, 64, 67, 0.3), 0px 1px 3px 1px rgba(60, 64, 67, 0.15);\n",
              "      fill: #174EA6;\n",
              "    }\n",
              "\n",
              "    [theme=dark] .colab-df-convert {\n",
              "      background-color: #3B4455;\n",
              "      fill: #D2E3FC;\n",
              "    }\n",
              "\n",
              "    [theme=dark] .colab-df-convert:hover {\n",
              "      background-color: #434B5C;\n",
              "      box-shadow: 0px 1px 3px 1px rgba(0, 0, 0, 0.15);\n",
              "      filter: drop-shadow(0px 1px 2px rgba(0, 0, 0, 0.3));\n",
              "      fill: #FFFFFF;\n",
              "    }\n",
              "  </style>\n",
              "\n",
              "      <script>\n",
              "        const buttonEl =\n",
              "          document.querySelector('#df-bf4fe731-7c91-4ad3-a14c-e38a43168e66 button.colab-df-convert');\n",
              "        buttonEl.style.display =\n",
              "          google.colab.kernel.accessAllowed ? 'block' : 'none';\n",
              "\n",
              "        async function convertToInteractive(key) {\n",
              "          const element = document.querySelector('#df-bf4fe731-7c91-4ad3-a14c-e38a43168e66');\n",
              "          const dataTable =\n",
              "            await google.colab.kernel.invokeFunction('convertToInteractive',\n",
              "                                                     [key], {});\n",
              "          if (!dataTable) return;\n",
              "\n",
              "          const docLinkHtml = 'Like what you see? Visit the ' +\n",
              "            '<a target=\"_blank\" href=https://colab.research.google.com/notebooks/data_table.ipynb>data table notebook</a>'\n",
              "            + ' to learn more about interactive tables.';\n",
              "          element.innerHTML = '';\n",
              "          dataTable['output_type'] = 'display_data';\n",
              "          await google.colab.output.renderOutput(dataTable, element);\n",
              "          const docLink = document.createElement('div');\n",
              "          docLink.innerHTML = docLinkHtml;\n",
              "          element.appendChild(docLink);\n",
              "        }\n",
              "      </script>\n",
              "    </div>\n",
              "  </div>\n",
              "  "
            ]
          },
          "metadata": {},
          "execution_count": 13
        }
      ]
    },
    {
      "cell_type": "code",
      "source": [
        "#creating dataframes with test rows and training rows\n",
        "train,test=dfTrain[dfTrain['is_train']==True],dfTrain[dfTrain['is_train']==False]\n",
        "\n",
        "#show the number of observations for the test and training dataframes\n",
        "print('no: of obs in training data: ',len(train))\n",
        "print('no: of obs in testing data: ',len(test))"
      ],
      "metadata": {
        "colab": {
          "base_uri": "https://localhost:8080/"
        },
        "id": "eG-4ieY-yX-g",
        "outputId": "7ab713c6-d65e-49ee-fce8-3ea13fec974c"
      },
      "execution_count": 14,
      "outputs": [
        {
          "output_type": "stream",
          "name": "stdout",
          "text": [
            "no: of obs in training data:  8816\n",
            "no: of obs in testing data:  2892\n"
          ]
        }
      ]
    },
    {
      "cell_type": "code",
      "source": [
        "lab= pd.factorize(train[\"label\"])[0]\n",
        "lab\n",
        "features=dfTrain.columns[1:7]  #creating feature vector for training from dataframe columns\n",
        "features"
      ],
      "metadata": {
        "colab": {
          "base_uri": "https://localhost:8080/"
        },
        "id": "0wp6hFpBymX3",
        "outputId": "949e6725-2c5a-4b73-873b-1177de12574b"
      },
      "execution_count": 15,
      "outputs": [
        {
          "output_type": "execute_result",
          "data": {
            "text/plain": [
              "Index(['blue', 'green', 'red', 'nir', 'swir1', 'swir2'], dtype='object')"
            ]
          },
          "metadata": {},
          "execution_count": 15
        }
      ]
    },
    {
      "cell_type": "code",
      "source": [
        "#creating a random forest classifier\n",
        "\n",
        "clf=RandomForestClassifier(n_jobs=2,n_estimators=200, random_state=50)\n",
        "#Training the classifier\n",
        "clf.fit(train[features],lab)"
      ],
      "metadata": {
        "id": "YqR2xA8Oyt0l",
        "colab": {
          "base_uri": "https://localhost:8080/",
          "height": 74
        },
        "outputId": "fb98113f-198d-4ebc-f42f-a54f054b6cc8"
      },
      "execution_count": 16,
      "outputs": [
        {
          "output_type": "execute_result",
          "data": {
            "text/plain": [
              "RandomForestClassifier(n_estimators=200, n_jobs=2, random_state=50)"
            ],
            "text/html": [
              "<style>#sk-container-id-1 {color: black;background-color: white;}#sk-container-id-1 pre{padding: 0;}#sk-container-id-1 div.sk-toggleable {background-color: white;}#sk-container-id-1 label.sk-toggleable__label {cursor: pointer;display: block;width: 100%;margin-bottom: 0;padding: 0.3em;box-sizing: border-box;text-align: center;}#sk-container-id-1 label.sk-toggleable__label-arrow:before {content: \"▸\";float: left;margin-right: 0.25em;color: #696969;}#sk-container-id-1 label.sk-toggleable__label-arrow:hover:before {color: black;}#sk-container-id-1 div.sk-estimator:hover label.sk-toggleable__label-arrow:before {color: black;}#sk-container-id-1 div.sk-toggleable__content {max-height: 0;max-width: 0;overflow: hidden;text-align: left;background-color: #f0f8ff;}#sk-container-id-1 div.sk-toggleable__content pre {margin: 0.2em;color: black;border-radius: 0.25em;background-color: #f0f8ff;}#sk-container-id-1 input.sk-toggleable__control:checked~div.sk-toggleable__content {max-height: 200px;max-width: 100%;overflow: auto;}#sk-container-id-1 input.sk-toggleable__control:checked~label.sk-toggleable__label-arrow:before {content: \"▾\";}#sk-container-id-1 div.sk-estimator input.sk-toggleable__control:checked~label.sk-toggleable__label {background-color: #d4ebff;}#sk-container-id-1 div.sk-label input.sk-toggleable__control:checked~label.sk-toggleable__label {background-color: #d4ebff;}#sk-container-id-1 input.sk-hidden--visually {border: 0;clip: rect(1px 1px 1px 1px);clip: rect(1px, 1px, 1px, 1px);height: 1px;margin: -1px;overflow: hidden;padding: 0;position: absolute;width: 1px;}#sk-container-id-1 div.sk-estimator {font-family: monospace;background-color: #f0f8ff;border: 1px dotted black;border-radius: 0.25em;box-sizing: border-box;margin-bottom: 0.5em;}#sk-container-id-1 div.sk-estimator:hover {background-color: #d4ebff;}#sk-container-id-1 div.sk-parallel-item::after {content: \"\";width: 100%;border-bottom: 1px solid gray;flex-grow: 1;}#sk-container-id-1 div.sk-label:hover label.sk-toggleable__label {background-color: #d4ebff;}#sk-container-id-1 div.sk-serial::before {content: \"\";position: absolute;border-left: 1px solid gray;box-sizing: border-box;top: 0;bottom: 0;left: 50%;z-index: 0;}#sk-container-id-1 div.sk-serial {display: flex;flex-direction: column;align-items: center;background-color: white;padding-right: 0.2em;padding-left: 0.2em;position: relative;}#sk-container-id-1 div.sk-item {position: relative;z-index: 1;}#sk-container-id-1 div.sk-parallel {display: flex;align-items: stretch;justify-content: center;background-color: white;position: relative;}#sk-container-id-1 div.sk-item::before, #sk-container-id-1 div.sk-parallel-item::before {content: \"\";position: absolute;border-left: 1px solid gray;box-sizing: border-box;top: 0;bottom: 0;left: 50%;z-index: -1;}#sk-container-id-1 div.sk-parallel-item {display: flex;flex-direction: column;z-index: 1;position: relative;background-color: white;}#sk-container-id-1 div.sk-parallel-item:first-child::after {align-self: flex-end;width: 50%;}#sk-container-id-1 div.sk-parallel-item:last-child::after {align-self: flex-start;width: 50%;}#sk-container-id-1 div.sk-parallel-item:only-child::after {width: 0;}#sk-container-id-1 div.sk-dashed-wrapped {border: 1px dashed gray;margin: 0 0.4em 0.5em 0.4em;box-sizing: border-box;padding-bottom: 0.4em;background-color: white;}#sk-container-id-1 div.sk-label label {font-family: monospace;font-weight: bold;display: inline-block;line-height: 1.2em;}#sk-container-id-1 div.sk-label-container {text-align: center;}#sk-container-id-1 div.sk-container {/* jupyter's `normalize.less` sets `[hidden] { display: none; }` but bootstrap.min.css set `[hidden] { display: none !important; }` so we also need the `!important` here to be able to override the default hidden behavior on the sphinx rendered scikit-learn.org. See: https://github.com/scikit-learn/scikit-learn/issues/21755 */display: inline-block !important;position: relative;}#sk-container-id-1 div.sk-text-repr-fallback {display: none;}</style><div id=\"sk-container-id-1\" class=\"sk-top-container\"><div class=\"sk-text-repr-fallback\"><pre>RandomForestClassifier(n_estimators=200, n_jobs=2, random_state=50)</pre><b>In a Jupyter environment, please rerun this cell to show the HTML representation or trust the notebook. <br />On GitHub, the HTML representation is unable to render, please try loading this page with nbviewer.org.</b></div><div class=\"sk-container\" hidden><div class=\"sk-item\"><div class=\"sk-estimator sk-toggleable\"><input class=\"sk-toggleable__control sk-hidden--visually\" id=\"sk-estimator-id-1\" type=\"checkbox\" checked><label for=\"sk-estimator-id-1\" class=\"sk-toggleable__label sk-toggleable__label-arrow\">RandomForestClassifier</label><div class=\"sk-toggleable__content\"><pre>RandomForestClassifier(n_estimators=200, n_jobs=2, random_state=50)</pre></div></div></div></div></div>"
            ]
          },
          "metadata": {},
          "execution_count": 16
        }
      ]
    },
    {
      "cell_type": "code",
      "source": [
        "clf.predict(test[features])  #predicting the test features"
      ],
      "metadata": {
        "id": "pL5gSYCtwOjz",
        "colab": {
          "base_uri": "https://localhost:8080/"
        },
        "outputId": "800a3cab-19df-4d36-c59e-1c1fb1ba9754"
      },
      "execution_count": 17,
      "outputs": [
        {
          "output_type": "execute_result",
          "data": {
            "text/plain": [
              "array([0, 0, 0, ..., 4, 4, 4])"
            ]
          },
          "metadata": {},
          "execution_count": 17
        }
      ]
    },
    {
      "cell_type": "code",
      "source": [
        "clsAry=np.array(classes)\n",
        "print(clsAry)"
      ],
      "metadata": {
        "colab": {
          "base_uri": "https://localhost:8080/"
        },
        "id": "wBiDc-wPyXu1",
        "outputId": "0f329b31-12a3-4350-ecad-a43508980de0"
      },
      "execution_count": 18,
      "outputs": [
        {
          "output_type": "stream",
          "name": "stdout",
          "text": [
            "['blt' 'brn' 'veg' 'wtr' 'noData']\n"
          ]
        }
      ]
    },
    {
      "cell_type": "code",
      "source": [
        "preds=clsAry[clf.predict(test[features])]\n",
        "preds"
      ],
      "metadata": {
        "id": "hixLxn4Vwc9_",
        "colab": {
          "base_uri": "https://localhost:8080/"
        },
        "outputId": "0acf1782-c4dd-471f-832e-04052ebd9599"
      },
      "execution_count": 19,
      "outputs": [
        {
          "output_type": "execute_result",
          "data": {
            "text/plain": [
              "array(['blt', 'blt', 'blt', ..., 'noData', 'noData', 'noData'],\n",
              "      dtype='<U6')"
            ]
          },
          "metadata": {},
          "execution_count": 19
        }
      ]
    },
    {
      "cell_type": "code",
      "source": [
        "pd.crosstab(test['label'],preds,rownames=['actual labels'],colnames=['predicted labels'])  #creating confusion matrix out of test data"
      ],
      "metadata": {
        "colab": {
          "base_uri": "https://localhost:8080/",
          "height": 237
        },
        "id": "3xPINpw6zShz",
        "outputId": "b0076677-a30c-43f5-be28-b25ab19323f9"
      },
      "execution_count": 20,
      "outputs": [
        {
          "output_type": "execute_result",
          "data": {
            "text/plain": [
              "predicted labels  blt  brn  noData   veg  wtr\n",
              "actual labels                                \n",
              "blt                79    1       0    46    0\n",
              "brn                 0  841       0    17    0\n",
              "noData              0    0      11     0    0\n",
              "veg                 8   12       0  1869    1\n",
              "wtr                 0    0       0     1    6"
            ],
            "text/html": [
              "\n",
              "  <div id=\"df-3abf10f2-3e50-4196-8235-b8b2a26385ad\">\n",
              "    <div class=\"colab-df-container\">\n",
              "      <div>\n",
              "<style scoped>\n",
              "    .dataframe tbody tr th:only-of-type {\n",
              "        vertical-align: middle;\n",
              "    }\n",
              "\n",
              "    .dataframe tbody tr th {\n",
              "        vertical-align: top;\n",
              "    }\n",
              "\n",
              "    .dataframe thead th {\n",
              "        text-align: right;\n",
              "    }\n",
              "</style>\n",
              "<table border=\"1\" class=\"dataframe\">\n",
              "  <thead>\n",
              "    <tr style=\"text-align: right;\">\n",
              "      <th>predicted labels</th>\n",
              "      <th>blt</th>\n",
              "      <th>brn</th>\n",
              "      <th>noData</th>\n",
              "      <th>veg</th>\n",
              "      <th>wtr</th>\n",
              "    </tr>\n",
              "    <tr>\n",
              "      <th>actual labels</th>\n",
              "      <th></th>\n",
              "      <th></th>\n",
              "      <th></th>\n",
              "      <th></th>\n",
              "      <th></th>\n",
              "    </tr>\n",
              "  </thead>\n",
              "  <tbody>\n",
              "    <tr>\n",
              "      <th>blt</th>\n",
              "      <td>79</td>\n",
              "      <td>1</td>\n",
              "      <td>0</td>\n",
              "      <td>46</td>\n",
              "      <td>0</td>\n",
              "    </tr>\n",
              "    <tr>\n",
              "      <th>brn</th>\n",
              "      <td>0</td>\n",
              "      <td>841</td>\n",
              "      <td>0</td>\n",
              "      <td>17</td>\n",
              "      <td>0</td>\n",
              "    </tr>\n",
              "    <tr>\n",
              "      <th>noData</th>\n",
              "      <td>0</td>\n",
              "      <td>0</td>\n",
              "      <td>11</td>\n",
              "      <td>0</td>\n",
              "      <td>0</td>\n",
              "    </tr>\n",
              "    <tr>\n",
              "      <th>veg</th>\n",
              "      <td>8</td>\n",
              "      <td>12</td>\n",
              "      <td>0</td>\n",
              "      <td>1869</td>\n",
              "      <td>1</td>\n",
              "    </tr>\n",
              "    <tr>\n",
              "      <th>wtr</th>\n",
              "      <td>0</td>\n",
              "      <td>0</td>\n",
              "      <td>0</td>\n",
              "      <td>1</td>\n",
              "      <td>6</td>\n",
              "    </tr>\n",
              "  </tbody>\n",
              "</table>\n",
              "</div>\n",
              "      <button class=\"colab-df-convert\" onclick=\"convertToInteractive('df-3abf10f2-3e50-4196-8235-b8b2a26385ad')\"\n",
              "              title=\"Convert this dataframe to an interactive table.\"\n",
              "              style=\"display:none;\">\n",
              "        \n",
              "  <svg xmlns=\"http://www.w3.org/2000/svg\" height=\"24px\"viewBox=\"0 0 24 24\"\n",
              "       width=\"24px\">\n",
              "    <path d=\"M0 0h24v24H0V0z\" fill=\"none\"/>\n",
              "    <path d=\"M18.56 5.44l.94 2.06.94-2.06 2.06-.94-2.06-.94-.94-2.06-.94 2.06-2.06.94zm-11 1L8.5 8.5l.94-2.06 2.06-.94-2.06-.94L8.5 2.5l-.94 2.06-2.06.94zm10 10l.94 2.06.94-2.06 2.06-.94-2.06-.94-.94-2.06-.94 2.06-2.06.94z\"/><path d=\"M17.41 7.96l-1.37-1.37c-.4-.4-.92-.59-1.43-.59-.52 0-1.04.2-1.43.59L10.3 9.45l-7.72 7.72c-.78.78-.78 2.05 0 2.83L4 21.41c.39.39.9.59 1.41.59.51 0 1.02-.2 1.41-.59l7.78-7.78 2.81-2.81c.8-.78.8-2.07 0-2.86zM5.41 20L4 18.59l7.72-7.72 1.47 1.35L5.41 20z\"/>\n",
              "  </svg>\n",
              "      </button>\n",
              "      \n",
              "  <style>\n",
              "    .colab-df-container {\n",
              "      display:flex;\n",
              "      flex-wrap:wrap;\n",
              "      gap: 12px;\n",
              "    }\n",
              "\n",
              "    .colab-df-convert {\n",
              "      background-color: #E8F0FE;\n",
              "      border: none;\n",
              "      border-radius: 50%;\n",
              "      cursor: pointer;\n",
              "      display: none;\n",
              "      fill: #1967D2;\n",
              "      height: 32px;\n",
              "      padding: 0 0 0 0;\n",
              "      width: 32px;\n",
              "    }\n",
              "\n",
              "    .colab-df-convert:hover {\n",
              "      background-color: #E2EBFA;\n",
              "      box-shadow: 0px 1px 2px rgba(60, 64, 67, 0.3), 0px 1px 3px 1px rgba(60, 64, 67, 0.15);\n",
              "      fill: #174EA6;\n",
              "    }\n",
              "\n",
              "    [theme=dark] .colab-df-convert {\n",
              "      background-color: #3B4455;\n",
              "      fill: #D2E3FC;\n",
              "    }\n",
              "\n",
              "    [theme=dark] .colab-df-convert:hover {\n",
              "      background-color: #434B5C;\n",
              "      box-shadow: 0px 1px 3px 1px rgba(0, 0, 0, 0.15);\n",
              "      filter: drop-shadow(0px 1px 2px rgba(0, 0, 0, 0.3));\n",
              "      fill: #FFFFFF;\n",
              "    }\n",
              "  </style>\n",
              "\n",
              "      <script>\n",
              "        const buttonEl =\n",
              "          document.querySelector('#df-3abf10f2-3e50-4196-8235-b8b2a26385ad button.colab-df-convert');\n",
              "        buttonEl.style.display =\n",
              "          google.colab.kernel.accessAllowed ? 'block' : 'none';\n",
              "\n",
              "        async function convertToInteractive(key) {\n",
              "          const element = document.querySelector('#df-3abf10f2-3e50-4196-8235-b8b2a26385ad');\n",
              "          const dataTable =\n",
              "            await google.colab.kernel.invokeFunction('convertToInteractive',\n",
              "                                                     [key], {});\n",
              "          if (!dataTable) return;\n",
              "\n",
              "          const docLinkHtml = 'Like what you see? Visit the ' +\n",
              "            '<a target=\"_blank\" href=https://colab.research.google.com/notebooks/data_table.ipynb>data table notebook</a>'\n",
              "            + ' to learn more about interactive tables.';\n",
              "          element.innerHTML = '';\n",
              "          dataTable['output_type'] = 'display_data';\n",
              "          await google.colab.output.renderOutput(dataTable, element);\n",
              "          const docLink = document.createElement('div');\n",
              "          docLink.innerHTML = docLinkHtml;\n",
              "          element.appendChild(docLink);\n",
              "        }\n",
              "      </script>\n",
              "    </div>\n",
              "  </div>\n",
              "  "
            ]
          },
          "metadata": {},
          "execution_count": 20
        }
      ]
    },
    {
      "cell_type": "code",
      "source": [
        "predFinal=clf.predict(flatDf)  #predicitng on our input satellite image data (here pune data)\n",
        "predFinal"
      ],
      "metadata": {
        "id": "RjD4mGxG3brI",
        "colab": {
          "base_uri": "https://localhost:8080/"
        },
        "outputId": "100929f2-1aad-40a1-aae5-68f07043ffba"
      },
      "execution_count": 21,
      "outputs": [
        {
          "output_type": "execute_result",
          "data": {
            "text/plain": [
              "array([4, 4, 4, ..., 4, 4, 4])"
            ]
          },
          "metadata": {},
          "execution_count": 21
        }
      ]
    },
    {
      "cell_type": "code",
      "source": [
        "predFinal=predFinal.reshape(5568,6828)\n",
        "plt.imshow(predFinal)\n",
        "plt.colorbar()"
      ],
      "metadata": {
        "id": "AwymJ5G13fWi",
        "colab": {
          "base_uri": "https://localhost:8080/",
          "height": 437
        },
        "outputId": "d006ac8f-3dc9-4714-edb4-989dc3bb5253"
      },
      "execution_count": 22,
      "outputs": [
        {
          "output_type": "execute_result",
          "data": {
            "text/plain": [
              "<matplotlib.colorbar.Colorbar at 0x7f704fe13c70>"
            ]
          },
          "metadata": {},
          "execution_count": 22
        },
        {
          "output_type": "display_data",
          "data": {
            "text/plain": [
              "<Figure size 640x480 with 2 Axes>"
            ],
            "image/png": "[encoded data removed]"
          },
          "metadata": {}
        }
      ]
    },
    {
      "cell_type": "code",
      "source": [
        "output_file = \"/content/drive/MyDrive/pune22_rf_2\"\n",
        "driver = gdal.GetDriverByName(\"GTiff\")\n",
        "\n",
        "# get the spatial reference system of the data (optional)\n",
        "srs = osr.SpatialReference()\n",
        "srs.ImportFromEPSG(4326)  # set to WGS84\n",
        "\n",
        "# create a new GeoTIFF file with one band\n",
        "dst_ds = driver.Create(output_file, predFinal.shape[1], predFinal.shape[0], 1, gdal.GDT_Float32)\n",
        "\n",
        "# set the projection (optional)\n",
        "dst_ds.SetProjection(srs.ExportToWkt())\n",
        "\n",
        "# write the data to the GeoTIFF file\n",
        "dst_ds.GetRasterBand(1).WriteArray(predFinal)\n",
        "\n",
        "# close the file\n",
        "dst_ds = None"
      ],
      "metadata": {
        "id": "DRo71SCu8ksV"
      },
      "execution_count": null,
      "outputs": []
    },
    {
      "cell_type": "code",
      "source": [
        "modelName=\"/content/drive/MyDrive/BigGeoProj/rf2.sav\"\n",
        "pickle.dump(clf, open(modelName, 'wb'))"
      ],
      "metadata": {
        "id": "2C46jXxG-YWd"
      },
      "execution_count": 23,
      "outputs": []
    },
    {
      "cell_type": "code",
      "source": [
        "clf=None\n",
        "predFinal=None\n",
        "test=None\n",
        "train=None\n",
        "dfTrain=None"
      ],
      "metadata": {
        "id": "jRyHISotJXzK"
      },
      "execution_count": 24,
      "outputs": []
    }
  ]
}