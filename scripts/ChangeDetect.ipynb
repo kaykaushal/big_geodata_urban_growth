{
 "cells": [
  {
   "cell_type": "code",
   "execution_count": 11,
   "id": "a3dfd6a1",
   "metadata": {},
   "outputs": [],
   "source": [
    "from osgeo import gdal, ogr, osr\n",
    "import matplotlib.pyplot as plt\n",
    "import glob\n",
    "import geopandas as gpd\n",
    "import numpy as np"
   ]
  },
  {
   "cell_type": "code",
   "execution_count": 12,
   "id": "fbc5b86f",
   "metadata": {},
   "outputs": [],
   "source": [
    "#reading classified images from 2002-2022\n",
    "\n",
    "folderPath=\"C:\\\\Users\\\\Sreehari\\\\Documents\\\\IIRS\\\\BigGeoProj\\\\Results\"\n",
    "\n",
    "\n",
    "clsImgs=[]\n",
    "noData=[]\n",
    "fileList=sorted(glob.glob(folderPath+'/*.tif'))\n",
    "for filePath in fileList:\n",
    "    ds=gdal.Open(filePath)\n",
    "    noData.append(ds.GetRasterBand(1).GetNoDataValue())\n",
    "    clsImgs.append(ds)\n",
    "    ds=None"
   ]
  },
  {
   "cell_type": "code",
   "execution_count": 13,
   "id": "c65ae211",
   "metadata": {},
   "outputs": [],
   "source": [
    "#finding the area of builtup in each image\n",
    "\n",
    "img1=clsImgs[0].ReadAsArray()\n",
    "img2=clsImgs[1].ReadAsArray()\n",
    "img3=clsImgs[2].ReadAsArray()"
   ]
  },
  {
   "cell_type": "code",
   "execution_count": 14,
   "id": "6c21749d",
   "metadata": {},
   "outputs": [
    {
     "name": "stdout",
     "output_type": "stream",
     "text": [
      "Area of Builtup in 2000 (km2):  289.8648\n",
      "Area of Builtup in 2012 (km2):  381.8034\n",
      "Area of Builtup in 2022 (km2):  513.8784\n"
     ]
    }
   ],
   "source": [
    "lulcNo=0\n",
    "pixelSize= 30*30\n",
    "\n",
    "\n",
    "mask1 = img1 == lulcNo\n",
    "area1=np.sum(mask1)*pixelSize\n",
    "\n",
    "mask2= img2 == lulcNo\n",
    "area2=np.sum(mask2)*pixelSize\n",
    "\n",
    "mask3= img3 == lulcNo\n",
    "area3= np.sum(mask3)*pixelSize\n",
    "\n",
    "print(\"Area of Builtup in 2000 (km2): \",area1/1e+6)\n",
    "print(\"Area of Builtup in 2012 (km2): \",area2/1e+6)\n",
    "print(\"Area of Builtup in 2022 (km2): \",area3/1e+6)\n"
   ]
  },
  {
   "cell_type": "code",
   "execution_count": null,
   "id": "f97d77c5",
   "metadata": {},
   "outputs": [],
   "source": [
    "count=np.count_nonzero(~np.isnan(img3))\n",
    "totArea=count*pixelSize\n",
    "print(totArea)"
   ]
  },
  {
   "cell_type": "code",
   "execution_count": null,
   "id": "3bbe895c",
   "metadata": {},
   "outputs": [],
   "source": [
    "#finding Annual Change Intensity ACI\n",
    "\n",
    "LC= area3-area1 #area of land change from non built to built\n",
    "LA= totArea #area of entire landscape\n",
    "TE = 20 #years (duration of given time interval)\n",
    "\n",
    "ACI = ((LC/LA)/TE)*100\n",
    "print(\"Annual Change Intensity: \", ACI)"
   ]
  },
  {
   "cell_type": "code",
   "execution_count": null,
   "id": "18d30c16",
   "metadata": {},
   "outputs": [],
   "source": [
    "img1=img1+1\n",
    "img2=img2+1\n",
    "img3=img3+1"
   ]
  },
  {
   "cell_type": "code",
   "execution_count": null,
   "id": "726f8aac",
   "metadata": {},
   "outputs": [],
   "source": [
    "#total change\n",
    "change=(img1*10)+img3\n",
    "np.unique(change)"
   ]
  },
  {
   "cell_type": "code",
   "execution_count": null,
   "id": "9b5dcd70",
   "metadata": {},
   "outputs": [],
   "source": [
    "change=np.nan_to_num(change,nan=0)\n",
    "change.shape"
   ]
  },
  {
   "cell_type": "code",
   "execution_count": null,
   "id": "035b8f68",
   "metadata": {},
   "outputs": [],
   "source": [
    "#creating change matrix\n",
    "changeMatrix=np.zeros((4,4))\n",
    "for p in range(0,change.shape[0]):\n",
    "    for q in range(0,change.shape[1]):\n",
    "        a=change[p,q]\n",
    "        i=int(a/10)\n",
    "        j=int(a%10)\n",
    "        changeMatrix[i-1,j-1]+=1\n",
    "        \n",
    "        \n",
    "        "
   ]
  },
  {
   "cell_type": "code",
   "execution_count": null,
   "id": "bfed8021",
   "metadata": {},
   "outputs": [],
   "source": [
    "#printing change matrix by calculating area\n",
    "changeMatrix=(changeMatrix*pixelSize)/1e+6\n",
    "print(changeMatrix)  "
   ]
  },
  {
   "cell_type": "code",
   "execution_count": null,
   "id": "bfb13d10",
   "metadata": {},
   "outputs": [],
   "source": [
    "#converting change matrix to dataframe\n",
    "\n",
    "cmDf= pd.DataFrame(data=changeMatrix, columns=['1','2','3','4'])\n",
    "cmDf.insert(loc=0, column='Classes', value=['Built-up','Barren','Vegetation','Waterbodies'])\n",
    "cmDf.insert(loc=1,column='',value=['1','2','3','4'])\n",
    "cmDf.to_csv(\"C:\\\\Users\\\\Sreehari\\\\Documents\\\\IIRS\\\\BigGeoProj\\\\Results\\\\change.csv\", sep=',')\n",
    "cmDf.head()"
   ]
  }
 ],
 "metadata": {
  "kernelspec": {
   "display_name": "Python 3 (ipykernel)",
   "language": "python",
   "name": "python3"
  },
  "language_info": {
   "codemirror_mode": {
    "name": "ipython",
    "version": 3
   },
   "file_extension": ".py",
   "mimetype": "text/x-python",
   "name": "python",
   "nbconvert_exporter": "python",
   "pygments_lexer": "ipython3",
   "version": "3.9.16"
  }
 },
 "nbformat": 4,
 "nbformat_minor": 5
}
