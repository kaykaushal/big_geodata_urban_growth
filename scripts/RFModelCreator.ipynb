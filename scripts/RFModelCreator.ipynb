{
  "cells": [
    {
      "attachments": {},
      "cell_type": "markdown",
      "metadata": {
        "id": "GHpD7YjUDUMC"
      },
      "source": [
        "# Random forest algorithm model creator"
      ]
    },
    {
      "cell_type": "code",
      "execution_count": 1,
      "metadata": {
        "id": "NLMOkVTYF9uH"
      },
      "outputs": [],
      "source": [
        "#importing libraries\n",
        "\n",
        "from sklearn.ensemble import RandomForestClassifier\n",
        "import pandas as pd\n",
        "import numpy as np\n",
        "from osgeo import gdal, osr, ogr\n",
        "np.random.seed(0) #setting random seed\n",
        "import matplotlib.pyplot as plt\n",
        "import pickle \n",
        "from sklearn.metrics import accuracy_score, cohen_kappa_score"
      ]
    },
    {
      "cell_type": "markdown",
      "metadata": {
        "id": "7GYCTPlOfPwR"
      },
      "source": [
        "**Processes starts from here**\n",
        "\n",
        "\n",
        "\n"
      ]
    },
    {
      "cell_type": "code",
      "execution_count": 2,
      "metadata": {
        "id": "W4HMwnS_qtHN"
      },
      "outputs": [],
      "source": [
        "#loading training data\n",
        "#converting all training data into np array\n",
        "\n",
        "#first, loading all training samples\n",
        "#training data is given as tif files with 10 samples for each class\n",
        "\n",
        "import glob\n",
        "dataList=[]\n",
        "folderPath='/content/drive/MyDrive/trainingData5'\n",
        "fileList=sorted(glob.glob(folderPath+'/*.tif'))\n",
        "for filePath in fileList:\n",
        "  ds=gdal.Open(filePath)\n",
        "  dataList.append(ds)\n",
        "  ds=None\n",
        "\n"
      ]
    },
    {
      "cell_type": "code",
      "execution_count": 3,
      "metadata": {
        "id": "gd1xT5Z3r1Pj"
      },
      "outputs": [],
      "source": [
        "#converting each samples into np array\n",
        "npDataList=[]\n",
        "for i in dataList:\n",
        "  tmpLst=[]\n",
        "  for j in range(1,7):\n",
        "    bnd=i.GetRasterBand(j).ReadAsArray()\n",
        "    tmpLst.append(bnd)\n",
        "\n",
        "  npDataList.append(np.stack(tmpLst,axis=-1))\n",
        "\n"
      ]
    },
    {
      "cell_type": "code",
      "execution_count": null,
      "metadata": {
        "colab": {
          "base_uri": "https://localhost:8080/"
        },
        "id": "vYmYvNFYeVTq",
        "outputId": "df1f0251-a442-4795-a56c-c6e6b19f5bc3"
      },
      "outputs": [
        {
          "name": "stdout",
          "output_type": "stream",
          "text": [
            "20\n"
          ]
        }
      ],
      "source": [
        "print(len(npDataList)) #checking total no of samples"
      ]
    },
    {
      "cell_type": "code",
      "execution_count": 4,
      "metadata": {
        "id": "yaHH2wC6fBfQ"
      },
      "outputs": [],
      "source": [
        "#converting training samples into dict with key is class name and value is the samples pixel values\n",
        "\n",
        "classes=['blt','brn','veg','wtr','noData']\n",
        "dataDict={}\n",
        "n=0\n",
        "cnt=0\n",
        "for i in npDataList:\n",
        "  shpAry=i.shape\n",
        "  val=[]\n",
        "  for j in range(0,shpAry[0]):\n",
        "    for k in range(0,shpAry[1]):\n",
        "      val.append(list(i[j,k,:]))\n",
        "\n",
        "\n",
        "  dataDict.update({classes[n]:val})\n",
        "\n",
        "  if (cnt+1)%5==0:\n",
        "    n+=1\n",
        "\n",
        "  cnt+=1\n",
        "\n",
        "  \n",
        "  \n"
      ]
    },
    {
      "cell_type": "code",
      "execution_count": 5,
      "metadata": {
        "id": "6Slfo1z-jgj8"
      },
      "outputs": [],
      "source": [
        "#assigning dictionary of samples into pandas dataframe for training\n",
        "\n",
        "dfTrain=pd.DataFrame(columns=['label','blue','green','red','nir','swir1','swir2'])\n",
        "pv=0\n",
        "for p in range(0,len(dataDict)):\n",
        "  clsName=list(dataDict.keys())[p]\n",
        "  for q in range(0,len(dataDict[clsName])):\n",
        "    itm=dataDict[clsName][q]\n",
        "    data={'label':clsName,\n",
        "      'blue':itm[0], \n",
        "      'green':itm[1], \n",
        "      'red':itm[2], \n",
        "      'nir':itm[3], \n",
        "      'swir1':itm[4],\n",
        "      'swir2':itm[5]\n",
        "      }\n",
        "    pv+=1\n",
        "    dfTrain.loc[pv]=data\n"
      ]
    },
    {
      "cell_type": "code",
      "execution_count": 6,
      "metadata": {
        "colab": {
          "base_uri": "https://localhost:8080/",
          "height": 206
        },
        "id": "rOkX6k08nE_c",
        "outputId": "831d20d1-e11f-4124-9f22-57e50b66d922"
      },
      "outputs": [
        {
          "data": {
            "text/html": [
              "\n",
              "  <div id=\"df-07b28c56-fb45-4b55-8140-916f7262b22b\">\n",
              "    <div class=\"colab-df-container\">\n",
              "      <div>\n",
              "<style scoped>\n",
              "    .dataframe tbody tr th:only-of-type {\n",
              "        vertical-align: middle;\n",
              "    }\n",
              "\n",
              "    .dataframe tbody tr th {\n",
              "        vertical-align: top;\n",
              "    }\n",
              "\n",
              "    .dataframe thead th {\n",
              "        text-align: right;\n",
              "    }\n",
              "</style>\n",
              "<table border=\"1\" class=\"dataframe\">\n",
              "  <thead>\n",
              "    <tr style=\"text-align: right;\">\n",
              "      <th></th>\n",
              "      <th>label</th>\n",
              "      <th>blue</th>\n",
              "      <th>green</th>\n",
              "      <th>red</th>\n",
              "      <th>nir</th>\n",
              "      <th>swir1</th>\n",
              "      <th>swir2</th>\n",
              "    </tr>\n",
              "  </thead>\n",
              "  <tbody>\n",
              "    <tr>\n",
              "      <th>1</th>\n",
              "      <td>blt</td>\n",
              "      <td>8776.0</td>\n",
              "      <td>9777.0</td>\n",
              "      <td>10219.0</td>\n",
              "      <td>15405.0</td>\n",
              "      <td>16678.0</td>\n",
              "      <td>13288.0</td>\n",
              "    </tr>\n",
              "    <tr>\n",
              "      <th>2</th>\n",
              "      <td>blt</td>\n",
              "      <td>9435.0</td>\n",
              "      <td>9927.0</td>\n",
              "      <td>11452.0</td>\n",
              "      <td>15856.0</td>\n",
              "      <td>20162.0</td>\n",
              "      <td>16180.0</td>\n",
              "    </tr>\n",
              "    <tr>\n",
              "      <th>3</th>\n",
              "      <td>blt</td>\n",
              "      <td>9435.0</td>\n",
              "      <td>10455.0</td>\n",
              "      <td>12133.0</td>\n",
              "      <td>16007.0</td>\n",
              "      <td>21233.0</td>\n",
              "      <td>17298.0</td>\n",
              "    </tr>\n",
              "    <tr>\n",
              "      <th>4</th>\n",
              "      <td>blt</td>\n",
              "      <td>9655.0</td>\n",
              "      <td>10530.0</td>\n",
              "      <td>12133.0</td>\n",
              "      <td>16007.0</td>\n",
              "      <td>20698.0</td>\n",
              "      <td>17018.0</td>\n",
              "    </tr>\n",
              "    <tr>\n",
              "      <th>5</th>\n",
              "      <td>blt</td>\n",
              "      <td>9507.0</td>\n",
              "      <td>10754.0</td>\n",
              "      <td>12201.0</td>\n",
              "      <td>16158.0</td>\n",
              "      <td>20788.0</td>\n",
              "      <td>17112.0</td>\n",
              "    </tr>\n",
              "  </tbody>\n",
              "</table>\n",
              "</div>\n",
              "      <button class=\"colab-df-convert\" onclick=\"convertToInteractive('df-07b28c56-fb45-4b55-8140-916f7262b22b')\"\n",
              "              title=\"Convert this dataframe to an interactive table.\"\n",
              "              style=\"display:none;\">\n",
              "        \n",
              "  <svg xmlns=\"http://www.w3.org/2000/svg\" height=\"24px\"viewBox=\"0 0 24 24\"\n",
              "       width=\"24px\">\n",
              "    <path d=\"M0 0h24v24H0V0z\" fill=\"none\"/>\n",
              "    <path d=\"M18.56 5.44l.94 2.06.94-2.06 2.06-.94-2.06-.94-.94-2.06-.94 2.06-2.06.94zm-11 1L8.5 8.5l.94-2.06 2.06-.94-2.06-.94L8.5 2.5l-.94 2.06-2.06.94zm10 10l.94 2.06.94-2.06 2.06-.94-2.06-.94-.94-2.06-.94 2.06-2.06.94z\"/><path d=\"M17.41 7.96l-1.37-1.37c-.4-.4-.92-.59-1.43-.59-.52 0-1.04.2-1.43.59L10.3 9.45l-7.72 7.72c-.78.78-.78 2.05 0 2.83L4 21.41c.39.39.9.59 1.41.59.51 0 1.02-.2 1.41-.59l7.78-7.78 2.81-2.81c.8-.78.8-2.07 0-2.86zM5.41 20L4 18.59l7.72-7.72 1.47 1.35L5.41 20z\"/>\n",
              "  </svg>\n",
              "      </button>\n",
              "      \n",
              "  <style>\n",
              "    .colab-df-container {\n",
              "      display:flex;\n",
              "      flex-wrap:wrap;\n",
              "      gap: 12px;\n",
              "    }\n",
              "\n",
              "    .colab-df-convert {\n",
              "      background-color: #E8F0FE;\n",
              "      border: none;\n",
              "      border-radius: 50%;\n",
              "      cursor: pointer;\n",
              "      display: none;\n",
              "      fill: #1967D2;\n",
              "      height: 32px;\n",
              "      padding: 0 0 0 0;\n",
              "      width: 32px;\n",
              "    }\n",
              "\n",
              "    .colab-df-convert:hover {\n",
              "      background-color: #E2EBFA;\n",
              "      box-shadow: 0px 1px 2px rgba(60, 64, 67, 0.3), 0px 1px 3px 1px rgba(60, 64, 67, 0.15);\n",
              "      fill: #174EA6;\n",
              "    }\n",
              "\n",
              "    [theme=dark] .colab-df-convert {\n",
              "      background-color: #3B4455;\n",
              "      fill: #D2E3FC;\n",
              "    }\n",
              "\n",
              "    [theme=dark] .colab-df-convert:hover {\n",
              "      background-color: #434B5C;\n",
              "      box-shadow: 0px 1px 3px 1px rgba(0, 0, 0, 0.15);\n",
              "      filter: drop-shadow(0px 1px 2px rgba(0, 0, 0, 0.3));\n",
              "      fill: #FFFFFF;\n",
              "    }\n",
              "  </style>\n",
              "\n",
              "      <script>\n",
              "        const buttonEl =\n",
              "          document.querySelector('#df-07b28c56-fb45-4b55-8140-916f7262b22b button.colab-df-convert');\n",
              "        buttonEl.style.display =\n",
              "          google.colab.kernel.accessAllowed ? 'block' : 'none';\n",
              "\n",
              "        async function convertToInteractive(key) {\n",
              "          const element = document.querySelector('#df-07b28c56-fb45-4b55-8140-916f7262b22b');\n",
              "          const dataTable =\n",
              "            await google.colab.kernel.invokeFunction('convertToInteractive',\n",
              "                                                     [key], {});\n",
              "          if (!dataTable) return;\n",
              "\n",
              "          const docLinkHtml = 'Like what you see? Visit the ' +\n",
              "            '<a target=\"_blank\" href=https://colab.research.google.com/notebooks/data_table.ipynb>data table notebook</a>'\n",
              "            + ' to learn more about interactive tables.';\n",
              "          element.innerHTML = '';\n",
              "          dataTable['output_type'] = 'display_data';\n",
              "          await google.colab.output.renderOutput(dataTable, element);\n",
              "          const docLink = document.createElement('div');\n",
              "          docLink.innerHTML = docLinkHtml;\n",
              "          element.appendChild(docLink);\n",
              "        }\n",
              "      </script>\n",
              "    </div>\n",
              "  </div>\n",
              "  "
            ],
            "text/plain": [
              "  label    blue    green      red      nir    swir1    swir2\n",
              "1   blt  8776.0   9777.0  10219.0  15405.0  16678.0  13288.0\n",
              "2   blt  9435.0   9927.0  11452.0  15856.0  20162.0  16180.0\n",
              "3   blt  9435.0  10455.0  12133.0  16007.0  21233.0  17298.0\n",
              "4   blt  9655.0  10530.0  12133.0  16007.0  20698.0  17018.0\n",
              "5   blt  9507.0  10754.0  12201.0  16158.0  20788.0  17112.0"
            ]
          },
          "execution_count": 6,
          "metadata": {},
          "output_type": "execute_result"
        }
      ],
      "source": [
        "dfTrain.head() #printing and checking"
      ]
    },
    {
      "cell_type": "code",
      "execution_count": 7,
      "metadata": {
        "colab": {
          "base_uri": "https://localhost:8080/"
        },
        "id": "bGhIqg9N4NaC",
        "outputId": "8f427f75-1afc-4073-af87-ff0aa249a1c2"
      },
      "outputs": [
        {
          "name": "stdout",
          "output_type": "stream",
          "text": [
            "922\n"
          ]
        }
      ],
      "source": [
        "print(len(dfTrain.index))"
      ]
    },
    {
      "cell_type": "code",
      "execution_count": 8,
      "metadata": {
        "id": "e3fzEwly3Rz0"
      },
      "outputs": [],
      "source": [
        "#adding data into training dataframe for 0 values for identifying it as noData class\n",
        "\n",
        "for s in range(1,20):\n",
        "  r=len(dfTrain.index)+s\n",
        "  data0={'label':classes[4],\n",
        "      'blue':-999.99, \n",
        "      'green':-999.99, \n",
        "      'red':-999.99, \n",
        "      'nir':-999.99, \n",
        "      'swir1':-999.99 ,\n",
        "      'swir2':-999.99\n",
        "      }\n",
        "  dfTrain.loc[r]=data0"
      ]
    },
    {
      "cell_type": "code",
      "execution_count": 9,
      "metadata": {
        "colab": {
          "base_uri": "https://localhost:8080/"
        },
        "id": "6Wzor2KVtX_u",
        "outputId": "5d66a348-985a-4064-eedc-157848447e9a"
      },
      "outputs": [
        {
          "name": "stdout",
          "output_type": "stream",
          "text": [
            "941\n"
          ]
        }
      ],
      "source": [
        "print(len(dfTrain.index))"
      ]
    },
    {
      "cell_type": "code",
      "execution_count": null,
      "metadata": {
        "id": "55HJ8wblEyZh"
      },
      "outputs": [],
      "source": [
        "#dfTrain.dropna(inplace=True)"
      ]
    },
    {
      "cell_type": "code",
      "execution_count": 10,
      "metadata": {
        "colab": {
          "base_uri": "https://localhost:8080/",
          "height": 206
        },
        "id": "t1NUWaNWx1E-",
        "outputId": "37ac8e44-396f-4b76-f3a4-b8c30258babf"
      },
      "outputs": [
        {
          "data": {
            "text/html": [
              "\n",
              "  <div id=\"df-0c8672ec-1ad7-44bd-9585-a521e44dec02\">\n",
              "    <div class=\"colab-df-container\">\n",
              "      <div>\n",
              "<style scoped>\n",
              "    .dataframe tbody tr th:only-of-type {\n",
              "        vertical-align: middle;\n",
              "    }\n",
              "\n",
              "    .dataframe tbody tr th {\n",
              "        vertical-align: top;\n",
              "    }\n",
              "\n",
              "    .dataframe thead th {\n",
              "        text-align: right;\n",
              "    }\n",
              "</style>\n",
              "<table border=\"1\" class=\"dataframe\">\n",
              "  <thead>\n",
              "    <tr style=\"text-align: right;\">\n",
              "      <th></th>\n",
              "      <th>label</th>\n",
              "      <th>blue</th>\n",
              "      <th>green</th>\n",
              "      <th>red</th>\n",
              "      <th>nir</th>\n",
              "      <th>swir1</th>\n",
              "      <th>swir2</th>\n",
              "      <th>is_train</th>\n",
              "    </tr>\n",
              "  </thead>\n",
              "  <tbody>\n",
              "    <tr>\n",
              "      <th>1</th>\n",
              "      <td>blt</td>\n",
              "      <td>8776.0</td>\n",
              "      <td>9777.0</td>\n",
              "      <td>10219.0</td>\n",
              "      <td>15405.0</td>\n",
              "      <td>16678.0</td>\n",
              "      <td>13288.0</td>\n",
              "      <td>True</td>\n",
              "    </tr>\n",
              "    <tr>\n",
              "      <th>2</th>\n",
              "      <td>blt</td>\n",
              "      <td>9435.0</td>\n",
              "      <td>9927.0</td>\n",
              "      <td>11452.0</td>\n",
              "      <td>15856.0</td>\n",
              "      <td>20162.0</td>\n",
              "      <td>16180.0</td>\n",
              "      <td>True</td>\n",
              "    </tr>\n",
              "    <tr>\n",
              "      <th>3</th>\n",
              "      <td>blt</td>\n",
              "      <td>9435.0</td>\n",
              "      <td>10455.0</td>\n",
              "      <td>12133.0</td>\n",
              "      <td>16007.0</td>\n",
              "      <td>21233.0</td>\n",
              "      <td>17298.0</td>\n",
              "      <td>True</td>\n",
              "    </tr>\n",
              "    <tr>\n",
              "      <th>4</th>\n",
              "      <td>blt</td>\n",
              "      <td>9655.0</td>\n",
              "      <td>10530.0</td>\n",
              "      <td>12133.0</td>\n",
              "      <td>16007.0</td>\n",
              "      <td>20698.0</td>\n",
              "      <td>17018.0</td>\n",
              "      <td>True</td>\n",
              "    </tr>\n",
              "    <tr>\n",
              "      <th>5</th>\n",
              "      <td>blt</td>\n",
              "      <td>9507.0</td>\n",
              "      <td>10754.0</td>\n",
              "      <td>12201.0</td>\n",
              "      <td>16158.0</td>\n",
              "      <td>20788.0</td>\n",
              "      <td>17112.0</td>\n",
              "      <td>True</td>\n",
              "    </tr>\n",
              "  </tbody>\n",
              "</table>\n",
              "</div>\n",
              "      <button class=\"colab-df-convert\" onclick=\"convertToInteractive('df-0c8672ec-1ad7-44bd-9585-a521e44dec02')\"\n",
              "              title=\"Convert this dataframe to an interactive table.\"\n",
              "              style=\"display:none;\">\n",
              "        \n",
              "  <svg xmlns=\"http://www.w3.org/2000/svg\" height=\"24px\"viewBox=\"0 0 24 24\"\n",
              "       width=\"24px\">\n",
              "    <path d=\"M0 0h24v24H0V0z\" fill=\"none\"/>\n",
              "    <path d=\"M18.56 5.44l.94 2.06.94-2.06 2.06-.94-2.06-.94-.94-2.06-.94 2.06-2.06.94zm-11 1L8.5 8.5l.94-2.06 2.06-.94-2.06-.94L8.5 2.5l-.94 2.06-2.06.94zm10 10l.94 2.06.94-2.06 2.06-.94-2.06-.94-.94-2.06-.94 2.06-2.06.94z\"/><path d=\"M17.41 7.96l-1.37-1.37c-.4-.4-.92-.59-1.43-.59-.52 0-1.04.2-1.43.59L10.3 9.45l-7.72 7.72c-.78.78-.78 2.05 0 2.83L4 21.41c.39.39.9.59 1.41.59.51 0 1.02-.2 1.41-.59l7.78-7.78 2.81-2.81c.8-.78.8-2.07 0-2.86zM5.41 20L4 18.59l7.72-7.72 1.47 1.35L5.41 20z\"/>\n",
              "  </svg>\n",
              "      </button>\n",
              "      \n",
              "  <style>\n",
              "    .colab-df-container {\n",
              "      display:flex;\n",
              "      flex-wrap:wrap;\n",
              "      gap: 12px;\n",
              "    }\n",
              "\n",
              "    .colab-df-convert {\n",
              "      background-color: #E8F0FE;\n",
              "      border: none;\n",
              "      border-radius: 50%;\n",
              "      cursor: pointer;\n",
              "      display: none;\n",
              "      fill: #1967D2;\n",
              "      height: 32px;\n",
              "      padding: 0 0 0 0;\n",
              "      width: 32px;\n",
              "    }\n",
              "\n",
              "    .colab-df-convert:hover {\n",
              "      background-color: #E2EBFA;\n",
              "      box-shadow: 0px 1px 2px rgba(60, 64, 67, 0.3), 0px 1px 3px 1px rgba(60, 64, 67, 0.15);\n",
              "      fill: #174EA6;\n",
              "    }\n",
              "\n",
              "    [theme=dark] .colab-df-convert {\n",
              "      background-color: #3B4455;\n",
              "      fill: #D2E3FC;\n",
              "    }\n",
              "\n",
              "    [theme=dark] .colab-df-convert:hover {\n",
              "      background-color: #434B5C;\n",
              "      box-shadow: 0px 1px 3px 1px rgba(0, 0, 0, 0.15);\n",
              "      filter: drop-shadow(0px 1px 2px rgba(0, 0, 0, 0.3));\n",
              "      fill: #FFFFFF;\n",
              "    }\n",
              "  </style>\n",
              "\n",
              "      <script>\n",
              "        const buttonEl =\n",
              "          document.querySelector('#df-0c8672ec-1ad7-44bd-9585-a521e44dec02 button.colab-df-convert');\n",
              "        buttonEl.style.display =\n",
              "          google.colab.kernel.accessAllowed ? 'block' : 'none';\n",
              "\n",
              "        async function convertToInteractive(key) {\n",
              "          const element = document.querySelector('#df-0c8672ec-1ad7-44bd-9585-a521e44dec02');\n",
              "          const dataTable =\n",
              "            await google.colab.kernel.invokeFunction('convertToInteractive',\n",
              "                                                     [key], {});\n",
              "          if (!dataTable) return;\n",
              "\n",
              "          const docLinkHtml = 'Like what you see? Visit the ' +\n",
              "            '<a target=\"_blank\" href=https://colab.research.google.com/notebooks/data_table.ipynb>data table notebook</a>'\n",
              "            + ' to learn more about interactive tables.';\n",
              "          element.innerHTML = '';\n",
              "          dataTable['output_type'] = 'display_data';\n",
              "          await google.colab.output.renderOutput(dataTable, element);\n",
              "          const docLink = document.createElement('div');\n",
              "          docLink.innerHTML = docLinkHtml;\n",
              "          element.appendChild(docLink);\n",
              "        }\n",
              "      </script>\n",
              "    </div>\n",
              "  </div>\n",
              "  "
            ],
            "text/plain": [
              "  label    blue    green      red      nir    swir1    swir2  is_train\n",
              "1   blt  8776.0   9777.0  10219.0  15405.0  16678.0  13288.0      True\n",
              "2   blt  9435.0   9927.0  11452.0  15856.0  20162.0  16180.0      True\n",
              "3   blt  9435.0  10455.0  12133.0  16007.0  21233.0  17298.0      True\n",
              "4   blt  9655.0  10530.0  12133.0  16007.0  20698.0  17018.0      True\n",
              "5   blt  9507.0  10754.0  12201.0  16158.0  20788.0  17112.0      True"
            ]
          },
          "execution_count": 10,
          "metadata": {},
          "output_type": "execute_result"
        }
      ],
      "source": [
        "dfTrain['is_train']=np.random.uniform(0,1,len(dfTrain))<=.80  #dividing into train and test samples\n",
        "dfTrain.head()"
      ]
    },
    {
      "cell_type": "code",
      "execution_count": null,
      "metadata": {
        "id": "GCTlz4zN9qrP"
      },
      "outputs": [],
      "source": [
        "dfTrain.to_csv(\"/content/sample_data/dfTrain1.csv\", sep='\\t')"
      ]
    },
    {
      "cell_type": "code",
      "execution_count": 11,
      "metadata": {
        "colab": {
          "base_uri": "https://localhost:8080/"
        },
        "id": "eG-4ieY-yX-g",
        "outputId": "d7ed3311-a89d-42f3-8907-ad0a327d65e3"
      },
      "outputs": [
        {
          "name": "stdout",
          "output_type": "stream",
          "text": [
            "no: of obs in training data:  751\n",
            "no: of obs in testing data:  190\n"
          ]
        }
      ],
      "source": [
        "#creating dataframes with test rows and training rows\n",
        "train,test=dfTrain[dfTrain['is_train']==True],dfTrain[dfTrain['is_train']==False]\n",
        "\n",
        "#show the number of observations for the test and training dataframes\n",
        "print('no: of obs in training data: ',len(train))\n",
        "print('no: of obs in testing data: ',len(test))"
      ]
    },
    {
      "cell_type": "code",
      "execution_count": 12,
      "metadata": {
        "colab": {
          "base_uri": "https://localhost:8080/"
        },
        "id": "0wp6hFpBymX3",
        "outputId": "76d1cfb3-bbbd-46dd-d5a2-b2d1bfb53c95"
      },
      "outputs": [
        {
          "name": "stdout",
          "output_type": "stream",
          "text": [
            "[0 0 0 0 0 0 0 0 0 0 0 0 0 0 0 0 0 0 0 0 0 0 0 0 0 0 0 0 0 0 0 0 0 0 0 0 0\n",
            " 0 0 0 1 1 1 1 1 1 1 1 1 1 1 1 1 1 1 1 1 1 1 1 1 1 1 1 1 1 1 1 1 1 1 1 1 1\n",
            " 1 1 1 1 1 1 1 1 1 1 1 1 1 1 1 1 1 1 1 1 1 1 1 1 1 1 1 1 1 1 1 1 1 1 1 1 1\n",
            " 1 1 1 1 1 1 1 1 1 1 1 1 1 1 1 1 1 1 1 1 1 1 1 1 1 1 1 1 1 1 1 1 1 1 1 1 1\n",
            " 1 1 1 1 1 1 1 1 1 1 1 1 1 1 1 1 1 1 1 1 1 1 1 1 1 1 1 1 1 1 1 1 1 1 1 1 1\n",
            " 1 1 1 1 1 1 1 1 1 1 1 1 1 1 1 1 1 1 1 1 1 1 1 1 1 1 1 1 1 1 1 1 1 1 1 1 1\n",
            " 1 1 1 1 1 1 1 1 1 1 1 1 1 1 1 1 1 1 1 2 2 2 2 2 2 2 2 2 2 2 2 2 2 2 2 2 2\n",
            " 2 2 2 2 2 2 2 2 2 2 2 2 2 2 2 2 2 2 2 2 2 2 2 2 2 2 2 2 2 2 2 2 2 2 2 2 2\n",
            " 2 2 2 2 2 2 2 2 2 2 2 2 2 2 2 2 2 2 2 2 2 2 2 2 2 2 2 2 2 2 2 2 2 2 2 2 2\n",
            " 2 2 2 2 2 2 2 2 2 2 2 2 2 2 2 2 2 2 2 2 2 2 2 2 2 2 2 2 2 2 2 2 2 2 2 2 2\n",
            " 2 2 2 2 2 2 2 2 2 2 2 2 2 2 2 2 2 2 2 2 2 2 2 2 2 2 2 2 2 2 2 2 2 2 2 2 2\n",
            " 2 2 2 2 2 2 2 2 2 2 2 2 2 2 2 2 2 2 2 2 2 2 2 2 2 2 2 2 2 2 2 2 2 2 2 2 2\n",
            " 2 2 2 2 2 2 2 2 2 2 2 2 2 2 2 2 2 2 2 2 2 2 2 2 2 2 2 2 2 2 2 2 2 2 2 2 2\n",
            " 2 2 2 2 2 2 2 2 2 2 2 2 2 2 2 2 2 2 2 2 2 2 2 2 2 2 2 2 2 2 2 2 2 2 2 2 2\n",
            " 2 2 2 2 2 2 2 2 2 2 2 2 2 2 2 2 2 2 2 2 2 2 2 2 2 2 2 2 2 2 2 2 2 2 2 2 2\n",
            " 2 2 2 2 2 2 2 2 2 2 2 2 2 2 2 2 2 2 2 2 2 2 2 2 2 2 2 2 2 2 2 2 2 2 2 2 2\n",
            " 2 2 2 2 2 2 2 2 2 2 2 2 2 2 2 2 2 2 2 2 2 2 2 2 2 2 2 2 2 2 2 2 2 2 2 2 2\n",
            " 2 2 2 2 2 2 2 2 2 2 2 2 2 2 2 2 2 2 2 2 2 2 2 2 2 2 2 2 2 2 2 2 2 2 2 2 2\n",
            " 2 2 2 2 2 2 2 2 2 2 2 2 2 2 2 2 2 2 2 2 2 2 2 2 2 2 2 2 2 3 3 3 3 3 3 3 3\n",
            " 3 3 3 3 3 3 3 3 3 3 3 3 3 3 3 3 3 3 3 3 3 3 3 3 3 3 3 3 3 3 3 3 3 3 4 4 4\n",
            " 4 4 4 4 4 4 4 4 4 4 4]\n"
          ]
        },
        {
          "data": {
            "text/plain": [
              "Index(['blue', 'green', 'red', 'nir', 'swir1', 'swir2'], dtype='object')"
            ]
          },
          "execution_count": 12,
          "metadata": {},
          "output_type": "execute_result"
        }
      ],
      "source": [
        "lab= pd.factorize(train[\"label\"])[0]\n",
        "print(lab)\n",
        "lab1=pd.factorize(test[\"label\"])[0]\n",
        "features=dfTrain.columns[1:7]  #creating feature vector for training from dataframe columns\n",
        "features"
      ]
    },
    {
      "cell_type": "code",
      "execution_count": 13,
      "metadata": {
        "colab": {
          "base_uri": "https://localhost:8080/",
          "height": 74
        },
        "id": "YqR2xA8Oyt0l",
        "outputId": "5d07e433-c0d6-4dd1-ed5e-4dd70bb66467"
      },
      "outputs": [
        {
          "data": {
            "text/html": [
              "<style>#sk-container-id-1 {color: black;background-color: white;}#sk-container-id-1 pre{padding: 0;}#sk-container-id-1 div.sk-toggleable {background-color: white;}#sk-container-id-1 label.sk-toggleable__label {cursor: pointer;display: block;width: 100%;margin-bottom: 0;padding: 0.3em;box-sizing: border-box;text-align: center;}#sk-container-id-1 label.sk-toggleable__label-arrow:before {content: \"▸\";float: left;margin-right: 0.25em;color: #696969;}#sk-container-id-1 label.sk-toggleable__label-arrow:hover:before {color: black;}#sk-container-id-1 div.sk-estimator:hover label.sk-toggleable__label-arrow:before {color: black;}#sk-container-id-1 div.sk-toggleable__content {max-height: 0;max-width: 0;overflow: hidden;text-align: left;background-color: #f0f8ff;}#sk-container-id-1 div.sk-toggleable__content pre {margin: 0.2em;color: black;border-radius: 0.25em;background-color: #f0f8ff;}#sk-container-id-1 input.sk-toggleable__control:checked~div.sk-toggleable__content {max-height: 200px;max-width: 100%;overflow: auto;}#sk-container-id-1 input.sk-toggleable__control:checked~label.sk-toggleable__label-arrow:before {content: \"▾\";}#sk-container-id-1 div.sk-estimator input.sk-toggleable__control:checked~label.sk-toggleable__label {background-color: #d4ebff;}#sk-container-id-1 div.sk-label input.sk-toggleable__control:checked~label.sk-toggleable__label {background-color: #d4ebff;}#sk-container-id-1 input.sk-hidden--visually {border: 0;clip: rect(1px 1px 1px 1px);clip: rect(1px, 1px, 1px, 1px);height: 1px;margin: -1px;overflow: hidden;padding: 0;position: absolute;width: 1px;}#sk-container-id-1 div.sk-estimator {font-family: monospace;background-color: #f0f8ff;border: 1px dotted black;border-radius: 0.25em;box-sizing: border-box;margin-bottom: 0.5em;}#sk-container-id-1 div.sk-estimator:hover {background-color: #d4ebff;}#sk-container-id-1 div.sk-parallel-item::after {content: \"\";width: 100%;border-bottom: 1px solid gray;flex-grow: 1;}#sk-container-id-1 div.sk-label:hover label.sk-toggleable__label {background-color: #d4ebff;}#sk-container-id-1 div.sk-serial::before {content: \"\";position: absolute;border-left: 1px solid gray;box-sizing: border-box;top: 0;bottom: 0;left: 50%;z-index: 0;}#sk-container-id-1 div.sk-serial {display: flex;flex-direction: column;align-items: center;background-color: white;padding-right: 0.2em;padding-left: 0.2em;position: relative;}#sk-container-id-1 div.sk-item {position: relative;z-index: 1;}#sk-container-id-1 div.sk-parallel {display: flex;align-items: stretch;justify-content: center;background-color: white;position: relative;}#sk-container-id-1 div.sk-item::before, #sk-container-id-1 div.sk-parallel-item::before {content: \"\";position: absolute;border-left: 1px solid gray;box-sizing: border-box;top: 0;bottom: 0;left: 50%;z-index: -1;}#sk-container-id-1 div.sk-parallel-item {display: flex;flex-direction: column;z-index: 1;position: relative;background-color: white;}#sk-container-id-1 div.sk-parallel-item:first-child::after {align-self: flex-end;width: 50%;}#sk-container-id-1 div.sk-parallel-item:last-child::after {align-self: flex-start;width: 50%;}#sk-container-id-1 div.sk-parallel-item:only-child::after {width: 0;}#sk-container-id-1 div.sk-dashed-wrapped {border: 1px dashed gray;margin: 0 0.4em 0.5em 0.4em;box-sizing: border-box;padding-bottom: 0.4em;background-color: white;}#sk-container-id-1 div.sk-label label {font-family: monospace;font-weight: bold;display: inline-block;line-height: 1.2em;}#sk-container-id-1 div.sk-label-container {text-align: center;}#sk-container-id-1 div.sk-container {/* jupyter's `normalize.less` sets `[hidden] { display: none; }` but bootstrap.min.css set `[hidden] { display: none !important; }` so we also need the `!important` here to be able to override the default hidden behavior on the sphinx rendered scikit-learn.org. See: https://github.com/scikit-learn/scikit-learn/issues/21755 */display: inline-block !important;position: relative;}#sk-container-id-1 div.sk-text-repr-fallback {display: none;}</style><div id=\"sk-container-id-1\" class=\"sk-top-container\"><div class=\"sk-text-repr-fallback\"><pre>RandomForestClassifier(n_jobs=2, random_state=42)</pre><b>In a Jupyter environment, please rerun this cell to show the HTML representation or trust the notebook. <br />On GitHub, the HTML representation is unable to render, please try loading this page with nbviewer.org.</b></div><div class=\"sk-container\" hidden><div class=\"sk-item\"><div class=\"sk-estimator sk-toggleable\"><input class=\"sk-toggleable__control sk-hidden--visually\" id=\"sk-estimator-id-1\" type=\"checkbox\" checked><label for=\"sk-estimator-id-1\" class=\"sk-toggleable__label sk-toggleable__label-arrow\">RandomForestClassifier</label><div class=\"sk-toggleable__content\"><pre>RandomForestClassifier(n_jobs=2, random_state=42)</pre></div></div></div></div></div>"
            ],
            "text/plain": [
              "RandomForestClassifier(n_jobs=2, random_state=42)"
            ]
          },
          "execution_count": 13,
          "metadata": {},
          "output_type": "execute_result"
        }
      ],
      "source": [
        "#creating a random forest classifier\n",
        "\n",
        "clf=RandomForestClassifier(n_jobs=2,n_estimators=100, random_state=42)\n",
        "#Training the classifier\n",
        "clf.fit(train[features],lab)"
      ]
    },
    {
      "cell_type": "code",
      "execution_count": 14,
      "metadata": {
        "colab": {
          "base_uri": "https://localhost:8080/"
        },
        "id": "pL5gSYCtwOjz",
        "outputId": "09106f99-9467-44a0-a403-cb0f2e90811b"
      },
      "outputs": [
        {
          "data": {
            "text/plain": [
              "array([0, 0, 0, 0, 0, 0, 0, 0, 1, 1, 1, 1, 1, 1, 1, 1, 1, 1, 1, 1, 1, 1,\n",
              "       1, 1, 1, 1, 1, 1, 1, 1, 1, 1, 1, 1, 1, 1, 1, 1, 1, 1, 1, 1, 1, 1,\n",
              "       1, 1, 1, 1, 1, 1, 1, 1, 1, 1, 1, 1, 1, 1, 1, 2, 2, 2, 2, 2, 2, 2,\n",
              "       2, 2, 2, 2, 2, 2, 2, 2, 2, 2, 2, 2, 2, 2, 2, 2, 2, 2, 2, 2, 2, 2,\n",
              "       2, 2, 2, 2, 2, 2, 2, 2, 2, 2, 2, 2, 2, 2, 2, 2, 2, 2, 2, 2, 2, 2,\n",
              "       2, 2, 2, 2, 2, 2, 2, 2, 2, 2, 2, 2, 2, 2, 2, 2, 2, 2, 2, 2, 2, 2,\n",
              "       2, 2, 2, 2, 2, 2, 2, 2, 2, 2, 2, 2, 2, 2, 2, 2, 2, 2, 2, 2, 2, 2,\n",
              "       2, 2, 2, 2, 2, 2, 2, 2, 2, 2, 2, 2, 2, 2, 2, 2, 2, 2, 2, 2, 2, 3,\n",
              "       3, 3, 3, 3, 3, 3, 3, 3, 3, 4, 4, 4, 4, 4])"
            ]
          },
          "execution_count": 14,
          "metadata": {},
          "output_type": "execute_result"
        }
      ],
      "source": [
        "testPred=clf.predict(test[features])  #predicting the test features\n",
        "testPred"
      ]
    },
    {
      "cell_type": "code",
      "execution_count": 15,
      "metadata": {
        "colab": {
          "base_uri": "https://localhost:8080/"
        },
        "id": "adu-BVAMt0Xs",
        "outputId": "141e8721-4194-4ce4-837d-a689e6ac8cf5"
      },
      "outputs": [
        {
          "name": "stdout",
          "output_type": "stream",
          "text": [
            "1.0\n",
            "1.0\n"
          ]
        }
      ],
      "source": [
        "#checking accuracy of classifier\n",
        "\n",
        "accuracy= accuracy_score(lab1,testPred)\n",
        "kappa = cohen_kappa_score(lab1, testPred)\n",
        "print(accuracy)\n",
        "print(kappa)"
      ]
    },
    {
      "cell_type": "code",
      "execution_count": 16,
      "metadata": {
        "colab": {
          "base_uri": "https://localhost:8080/"
        },
        "id": "wBiDc-wPyXu1",
        "outputId": "5f624512-5dd7-4db9-cb1a-ab02a0d966ba"
      },
      "outputs": [
        {
          "name": "stdout",
          "output_type": "stream",
          "text": [
            "['blt' 'brn' 'veg' 'wtr' 'noData']\n"
          ]
        }
      ],
      "source": [
        "clsAry=np.array(classes)\n",
        "print(clsAry)"
      ]
    },
    {
      "cell_type": "code",
      "execution_count": 17,
      "metadata": {
        "colab": {
          "base_uri": "https://localhost:8080/"
        },
        "id": "hixLxn4Vwc9_",
        "outputId": "356db18f-a336-4737-deec-b1b94b3e0680"
      },
      "outputs": [
        {
          "data": {
            "text/plain": [
              "array(['blt', 'blt', 'blt', 'blt', 'blt', 'blt', 'blt', 'blt', 'brn',\n",
              "       'brn', 'brn', 'brn', 'brn', 'brn', 'brn', 'brn', 'brn', 'brn',\n",
              "       'brn', 'brn', 'brn', 'brn', 'brn', 'brn', 'brn', 'brn', 'brn',\n",
              "       'brn', 'brn', 'brn', 'brn', 'brn', 'brn', 'brn', 'brn', 'brn',\n",
              "       'brn', 'brn', 'brn', 'brn', 'brn', 'brn', 'brn', 'brn', 'brn',\n",
              "       'brn', 'brn', 'brn', 'brn', 'brn', 'brn', 'brn', 'brn', 'brn',\n",
              "       'brn', 'brn', 'brn', 'brn', 'brn', 'veg', 'veg', 'veg', 'veg',\n",
              "       'veg', 'veg', 'veg', 'veg', 'veg', 'veg', 'veg', 'veg', 'veg',\n",
              "       'veg', 'veg', 'veg', 'veg', 'veg', 'veg', 'veg', 'veg', 'veg',\n",
              "       'veg', 'veg', 'veg', 'veg', 'veg', 'veg', 'veg', 'veg', 'veg',\n",
              "       'veg', 'veg', 'veg', 'veg', 'veg', 'veg', 'veg', 'veg', 'veg',\n",
              "       'veg', 'veg', 'veg', 'veg', 'veg', 'veg', 'veg', 'veg', 'veg',\n",
              "       'veg', 'veg', 'veg', 'veg', 'veg', 'veg', 'veg', 'veg', 'veg',\n",
              "       'veg', 'veg', 'veg', 'veg', 'veg', 'veg', 'veg', 'veg', 'veg',\n",
              "       'veg', 'veg', 'veg', 'veg', 'veg', 'veg', 'veg', 'veg', 'veg',\n",
              "       'veg', 'veg', 'veg', 'veg', 'veg', 'veg', 'veg', 'veg', 'veg',\n",
              "       'veg', 'veg', 'veg', 'veg', 'veg', 'veg', 'veg', 'veg', 'veg',\n",
              "       'veg', 'veg', 'veg', 'veg', 'veg', 'veg', 'veg', 'veg', 'veg',\n",
              "       'veg', 'veg', 'veg', 'veg', 'veg', 'veg', 'veg', 'veg', 'veg',\n",
              "       'veg', 'veg', 'veg', 'veg', 'wtr', 'wtr', 'wtr', 'wtr', 'wtr',\n",
              "       'wtr', 'wtr', 'wtr', 'wtr', 'wtr', 'noData', 'noData', 'noData',\n",
              "       'noData', 'noData'], dtype='<U6')"
            ]
          },
          "execution_count": 17,
          "metadata": {},
          "output_type": "execute_result"
        }
      ],
      "source": [
        "preds=clsAry[clf.predict(test[features])]\n",
        "preds"
      ]
    },
    {
      "cell_type": "code",
      "execution_count": 21,
      "metadata": {
        "colab": {
          "base_uri": "https://localhost:8080/",
          "height": 237
        },
        "id": "3xPINpw6zShz",
        "outputId": "48ce5c5b-58bc-487d-d7df-7080bab130a1"
      },
      "outputs": [
        {
          "data": {
            "text/html": [
              "\n",
              "  <div id=\"df-0cfc5a7d-5da7-4345-a3c5-ff7f345783db\">\n",
              "    <div class=\"colab-df-container\">\n",
              "      <div>\n",
              "<style scoped>\n",
              "    .dataframe tbody tr th:only-of-type {\n",
              "        vertical-align: middle;\n",
              "    }\n",
              "\n",
              "    .dataframe tbody tr th {\n",
              "        vertical-align: top;\n",
              "    }\n",
              "\n",
              "    .dataframe thead th {\n",
              "        text-align: right;\n",
              "    }\n",
              "</style>\n",
              "<table border=\"1\" class=\"dataframe\">\n",
              "  <thead>\n",
              "    <tr style=\"text-align: right;\">\n",
              "      <th>predicted labels</th>\n",
              "      <th>blt</th>\n",
              "      <th>brn</th>\n",
              "      <th>noData</th>\n",
              "      <th>veg</th>\n",
              "      <th>wtr</th>\n",
              "    </tr>\n",
              "    <tr>\n",
              "      <th>actual labels</th>\n",
              "      <th></th>\n",
              "      <th></th>\n",
              "      <th></th>\n",
              "      <th></th>\n",
              "      <th></th>\n",
              "    </tr>\n",
              "  </thead>\n",
              "  <tbody>\n",
              "    <tr>\n",
              "      <th>blt</th>\n",
              "      <td>8</td>\n",
              "      <td>0</td>\n",
              "      <td>0</td>\n",
              "      <td>0</td>\n",
              "      <td>0</td>\n",
              "    </tr>\n",
              "    <tr>\n",
              "      <th>brn</th>\n",
              "      <td>0</td>\n",
              "      <td>51</td>\n",
              "      <td>0</td>\n",
              "      <td>0</td>\n",
              "      <td>0</td>\n",
              "    </tr>\n",
              "    <tr>\n",
              "      <th>noData</th>\n",
              "      <td>0</td>\n",
              "      <td>0</td>\n",
              "      <td>5</td>\n",
              "      <td>0</td>\n",
              "      <td>0</td>\n",
              "    </tr>\n",
              "    <tr>\n",
              "      <th>veg</th>\n",
              "      <td>0</td>\n",
              "      <td>0</td>\n",
              "      <td>0</td>\n",
              "      <td>116</td>\n",
              "      <td>0</td>\n",
              "    </tr>\n",
              "    <tr>\n",
              "      <th>wtr</th>\n",
              "      <td>0</td>\n",
              "      <td>0</td>\n",
              "      <td>0</td>\n",
              "      <td>0</td>\n",
              "      <td>10</td>\n",
              "    </tr>\n",
              "  </tbody>\n",
              "</table>\n",
              "</div>\n",
              "      <button class=\"colab-df-convert\" onclick=\"convertToInteractive('df-0cfc5a7d-5da7-4345-a3c5-ff7f345783db')\"\n",
              "              title=\"Convert this dataframe to an interactive table.\"\n",
              "              style=\"display:none;\">\n",
              "        \n",
              "  <svg xmlns=\"http://www.w3.org/2000/svg\" height=\"24px\"viewBox=\"0 0 24 24\"\n",
              "       width=\"24px\">\n",
              "    <path d=\"M0 0h24v24H0V0z\" fill=\"none\"/>\n",
              "    <path d=\"M18.56 5.44l.94 2.06.94-2.06 2.06-.94-2.06-.94-.94-2.06-.94 2.06-2.06.94zm-11 1L8.5 8.5l.94-2.06 2.06-.94-2.06-.94L8.5 2.5l-.94 2.06-2.06.94zm10 10l.94 2.06.94-2.06 2.06-.94-2.06-.94-.94-2.06-.94 2.06-2.06.94z\"/><path d=\"M17.41 7.96l-1.37-1.37c-.4-.4-.92-.59-1.43-.59-.52 0-1.04.2-1.43.59L10.3 9.45l-7.72 7.72c-.78.78-.78 2.05 0 2.83L4 21.41c.39.39.9.59 1.41.59.51 0 1.02-.2 1.41-.59l7.78-7.78 2.81-2.81c.8-.78.8-2.07 0-2.86zM5.41 20L4 18.59l7.72-7.72 1.47 1.35L5.41 20z\"/>\n",
              "  </svg>\n",
              "      </button>\n",
              "      \n",
              "  <style>\n",
              "    .colab-df-container {\n",
              "      display:flex;\n",
              "      flex-wrap:wrap;\n",
              "      gap: 12px;\n",
              "    }\n",
              "\n",
              "    .colab-df-convert {\n",
              "      background-color: #E8F0FE;\n",
              "      border: none;\n",
              "      border-radius: 50%;\n",
              "      cursor: pointer;\n",
              "      display: none;\n",
              "      fill: #1967D2;\n",
              "      height: 32px;\n",
              "      padding: 0 0 0 0;\n",
              "      width: 32px;\n",
              "    }\n",
              "\n",
              "    .colab-df-convert:hover {\n",
              "      background-color: #E2EBFA;\n",
              "      box-shadow: 0px 1px 2px rgba(60, 64, 67, 0.3), 0px 1px 3px 1px rgba(60, 64, 67, 0.15);\n",
              "      fill: #174EA6;\n",
              "    }\n",
              "\n",
              "    [theme=dark] .colab-df-convert {\n",
              "      background-color: #3B4455;\n",
              "      fill: #D2E3FC;\n",
              "    }\n",
              "\n",
              "    [theme=dark] .colab-df-convert:hover {\n",
              "      background-color: #434B5C;\n",
              "      box-shadow: 0px 1px 3px 1px rgba(0, 0, 0, 0.15);\n",
              "      filter: drop-shadow(0px 1px 2px rgba(0, 0, 0, 0.3));\n",
              "      fill: #FFFFFF;\n",
              "    }\n",
              "  </style>\n",
              "\n",
              "      <script>\n",
              "        const buttonEl =\n",
              "          document.querySelector('#df-0cfc5a7d-5da7-4345-a3c5-ff7f345783db button.colab-df-convert');\n",
              "        buttonEl.style.display =\n",
              "          google.colab.kernel.accessAllowed ? 'block' : 'none';\n",
              "\n",
              "        async function convertToInteractive(key) {\n",
              "          const element = document.querySelector('#df-0cfc5a7d-5da7-4345-a3c5-ff7f345783db');\n",
              "          const dataTable =\n",
              "            await google.colab.kernel.invokeFunction('convertToInteractive',\n",
              "                                                     [key], {});\n",
              "          if (!dataTable) return;\n",
              "\n",
              "          const docLinkHtml = 'Like what you see? Visit the ' +\n",
              "            '<a target=\"_blank\" href=https://colab.research.google.com/notebooks/data_table.ipynb>data table notebook</a>'\n",
              "            + ' to learn more about interactive tables.';\n",
              "          element.innerHTML = '';\n",
              "          dataTable['output_type'] = 'display_data';\n",
              "          await google.colab.output.renderOutput(dataTable, element);\n",
              "          const docLink = document.createElement('div');\n",
              "          docLink.innerHTML = docLinkHtml;\n",
              "          element.appendChild(docLink);\n",
              "        }\n",
              "      </script>\n",
              "    </div>\n",
              "  </div>\n",
              "  "
            ],
            "text/plain": [
              "predicted labels  blt  brn  noData  veg  wtr\n",
              "actual labels                               \n",
              "blt                 8    0       0    0    0\n",
              "brn                 0   51       0    0    0\n",
              "noData              0    0       5    0    0\n",
              "veg                 0    0       0  116    0\n",
              "wtr                 0    0       0    0   10"
            ]
          },
          "execution_count": 21,
          "metadata": {},
          "output_type": "execute_result"
        }
      ],
      "source": [
        "crstb=pd.crosstab(test['label'],preds,rownames=['actual labels'],colnames=['predicted labels'])  #creating confusion matrix out of test data\n",
        "crstb.to_csv(\"/content/sample_data/confMat.csv\", sep='\\t')\n",
        "crstb.head()"
      ]
    },
    {
      "cell_type": "code",
      "execution_count": null,
      "metadata": {
        "id": "2C46jXxG-YWd"
      },
      "outputs": [],
      "source": [
        "#saving the model\n",
        "\n",
        "modelName=\"/content/drive/MyDrive/BigGeoProj/rfekm02.sav\"\n",
        "pickle.dump(clf, open(modelName, 'wb'))"
      ]
    },
    {
      "cell_type": "code",
      "execution_count": null,
      "metadata": {
        "id": "jRyHISotJXzK"
      },
      "outputs": [],
      "source": [
        "\n",
        "test=None\n",
        "train=None\n",
        "dfTrain=None"
      ]
    },
    {
      "cell_type": "code",
      "execution_count": null,
      "metadata": {
        "id": "KPdk_QMrKstZ"
      },
      "outputs": [],
      "source": [
        "clf=None\n"
      ]
    }
  ],
  "metadata": {
    "colab": {
      "provenance": []
    },
    "kernelspec": {
      "display_name": "Python 3",
      "name": "python3"
    },
    "language_info": {
      "name": "python"
    }
  },
  "nbformat": 4,
  "nbformat_minor": 0
}
